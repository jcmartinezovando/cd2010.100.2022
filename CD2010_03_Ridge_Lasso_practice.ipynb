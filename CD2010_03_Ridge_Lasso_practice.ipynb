{
  "nbformat": 4,
  "nbformat_minor": 0,
  "metadata": {
    "colab": {
      "provenance": [],
      "collapsed_sections": [
        "wFkGowkVp4rt",
        "6iyF2NDesjI9",
        "v4o2M_nGt4nC"
      ]
    },
    "kernelspec": {
      "name": "python3",
      "display_name": "Python 3"
    },
    "language_info": {
      "name": "python"
    }
  },
  "cells": [
    {
      "cell_type": "code",
      "execution_count": null,
      "metadata": {
        "id": "7Z_bkaUyR5cL"
      },
      "outputs": [],
      "source": []
    },
    {
      "cell_type": "markdown",
      "source": [
        "# Brief Overview on Ridge and Lasso \n",
        "\n",
        "Rirge and Lasso regression models are powerful techniques generally used for creating \"parsimonious\" models in presence of a \"large number of features\". Here \"large\" can typically mean either of two things:\n",
        "\n",
        "1. Large enough to enhance the tendency of a model to overfit (as low as 10 variables might cause overfi tting)\n",
        "2. Large enough to cause computational challenges.\n",
        "\n",
        "With modern systems, this situation might arise in case of millions orbillions of features.\n",
        "\n",
        "Though *Ridge* and *Lasso* might appear to work towards a common goal, the inherent properties and practical use cases differ substantially. If you've heard of them before, you must know that they work by penalizing the magnitude of coefficients offeatures along with minimizing the error between predicted and actual observations. \n",
        "\n",
        "---\n",
        "These are called ‘regularization’ techniques. The key difference is in how they assign penalty to the coeffi cients:\n",
        "\n",
        "1. **Ridge Regression:** Performs $L2$ regularization, i.e. adds penalty equivalent to square of the magnitude of coefficients.\n",
        "\n",
        "> Minimization objective = $LS-Obj$ + $\\alpha$ * (sum of square of coefficients)\n",
        "\n",
        "2. **Lasso Regression:** Performs $L1$ regularization, i.e. adds penalty equivalent to absolute value of the magnitude\n",
        "of coefficients.\n",
        "\n",
        "> Minimization objective = $LS-Obj$ + $α$ * (sum of absolute value of coeffi cients)\n",
        "\n",
        "Note that here $LS-Obj$ refers to ‘least squares objective’, i.e. the linear regression objective without regularization.\n",
        "\n",
        "---\n",
        "\n",
        "Lets try to understand the impact of model complexity on the magnitude of coefficients. As an example, I have simulated a sine-curve (between 60° and 300°) and added some random noise using the following code:\n",
        "\n",
        "a. Initialize predictors to all 15 powers of x$\n"
      ],
      "metadata": {
        "id": "-hmf2GNPR_tI"
      }
    },
    {
      "cell_type": "code",
      "source": [
        "import numpy as np\n",
        "import pandas as pd\n",
        "import random\n",
        "import matplotlib.pyplot as plt\n",
        "from sklearn.model_selection import train_test_split\n",
        "%matplotlib inline"
      ],
      "metadata": {
        "id": "BP7xaXtdSn0n"
      },
      "execution_count": null,
      "outputs": []
    },
    {
      "cell_type": "markdown",
      "source": [
        "First, we’ll define a generic function which takes in the required maximum power of x as an input and returns a list containing –\n",
        "[model RSS, intercept, coef_x, coef_x2, … upto entered power ].\n",
        "\n",
        "Here RSS refers to *Residual Sum of Squares* which is nothingbut the sum of square of errors between the predicted and actual values in the training data set. The python code goes as follows:\n"
      ],
      "metadata": {
        "id": "TEZ-ZUO2kEEp"
      }
    },
    {
      "cell_type": "markdown",
      "source": [
        "a. Defining independent variables as angles from 60° to 300° converted to radians"
      ],
      "metadata": {
        "id": "eVWe-E7nlZTr"
      }
    },
    {
      "cell_type": "code",
      "source": [
        "x = np.array([i*np.pi/180 for i in range(10,360,3)])"
      ],
      "metadata": {
        "id": "ZRKrQInHlXQ8"
      },
      "execution_count": null,
      "outputs": []
    },
    {
      "cell_type": "markdown",
      "source": [
        "b. Set the random seed for reproducible results: "
      ],
      "metadata": {
        "id": "yV-XJXN0l87_"
      }
    },
    {
      "cell_type": "code",
      "source": [
        "np.random.seed(10)"
      ],
      "metadata": {
        "id": "pgOz-sGPmECq"
      },
      "execution_count": null,
      "outputs": []
    },
    {
      "cell_type": "markdown",
      "source": [
        "c. Defining the target/dependent variable as $sin()$ of the independent variable $x$"
      ],
      "metadata": {
        "id": "67PQHFHwmI37"
      }
    },
    {
      "cell_type": "code",
      "source": [
        "y = np.sin(x) * np.random.normal(0,0.15,len(x))"
      ],
      "metadata": {
        "id": "xksQWbNzmVQ3"
      },
      "execution_count": null,
      "outputs": []
    },
    {
      "cell_type": "markdown",
      "source": [
        "d. Create a 'date.frame' with independent and dependent variables"
      ],
      "metadata": {
        "id": "UgAxxQcQmfOH"
      }
    },
    {
      "cell_type": "code",
      "source": [
        "data = pd.DataFrame(np.column_stack([x,y]), columns=['x','y'])\n",
        "\n",
        "data.head()"
      ],
      "metadata": {
        "colab": {
          "base_uri": "https://localhost:8080/",
          "height": 206
        },
        "id": "5F3In67emlUw",
        "outputId": "ac27cd41-3274-486c-c470-4218e9720ca5"
      },
      "execution_count": null,
      "outputs": [
        {
          "output_type": "execute_result",
          "data": {
            "text/plain": [
              "          x         y\n",
              "0  0.174533  0.034684\n",
              "1  0.226893  0.024135\n",
              "2  0.279253 -0.063896\n",
              "3  0.331613 -0.000409\n",
              "4  0.383972  0.034913"
            ],
            "text/html": [
              "\n",
              "  <div id=\"df-d0bd8037-f289-46b4-b608-d9b1cf529a9a\">\n",
              "    <div class=\"colab-df-container\">\n",
              "      <div>\n",
              "<style scoped>\n",
              "    .dataframe tbody tr th:only-of-type {\n",
              "        vertical-align: middle;\n",
              "    }\n",
              "\n",
              "    .dataframe tbody tr th {\n",
              "        vertical-align: top;\n",
              "    }\n",
              "\n",
              "    .dataframe thead th {\n",
              "        text-align: right;\n",
              "    }\n",
              "</style>\n",
              "<table border=\"1\" class=\"dataframe\">\n",
              "  <thead>\n",
              "    <tr style=\"text-align: right;\">\n",
              "      <th></th>\n",
              "      <th>x</th>\n",
              "      <th>y</th>\n",
              "    </tr>\n",
              "  </thead>\n",
              "  <tbody>\n",
              "    <tr>\n",
              "      <th>0</th>\n",
              "      <td>0.174533</td>\n",
              "      <td>0.034684</td>\n",
              "    </tr>\n",
              "    <tr>\n",
              "      <th>1</th>\n",
              "      <td>0.226893</td>\n",
              "      <td>0.024135</td>\n",
              "    </tr>\n",
              "    <tr>\n",
              "      <th>2</th>\n",
              "      <td>0.279253</td>\n",
              "      <td>-0.063896</td>\n",
              "    </tr>\n",
              "    <tr>\n",
              "      <th>3</th>\n",
              "      <td>0.331613</td>\n",
              "      <td>-0.000409</td>\n",
              "    </tr>\n",
              "    <tr>\n",
              "      <th>4</th>\n",
              "      <td>0.383972</td>\n",
              "      <td>0.034913</td>\n",
              "    </tr>\n",
              "  </tbody>\n",
              "</table>\n",
              "</div>\n",
              "      <button class=\"colab-df-convert\" onclick=\"convertToInteractive('df-d0bd8037-f289-46b4-b608-d9b1cf529a9a')\"\n",
              "              title=\"Convert this dataframe to an interactive table.\"\n",
              "              style=\"display:none;\">\n",
              "        \n",
              "  <svg xmlns=\"http://www.w3.org/2000/svg\" height=\"24px\"viewBox=\"0 0 24 24\"\n",
              "       width=\"24px\">\n",
              "    <path d=\"M0 0h24v24H0V0z\" fill=\"none\"/>\n",
              "    <path d=\"M18.56 5.44l.94 2.06.94-2.06 2.06-.94-2.06-.94-.94-2.06-.94 2.06-2.06.94zm-11 1L8.5 8.5l.94-2.06 2.06-.94-2.06-.94L8.5 2.5l-.94 2.06-2.06.94zm10 10l.94 2.06.94-2.06 2.06-.94-2.06-.94-.94-2.06-.94 2.06-2.06.94z\"/><path d=\"M17.41 7.96l-1.37-1.37c-.4-.4-.92-.59-1.43-.59-.52 0-1.04.2-1.43.59L10.3 9.45l-7.72 7.72c-.78.78-.78 2.05 0 2.83L4 21.41c.39.39.9.59 1.41.59.51 0 1.02-.2 1.41-.59l7.78-7.78 2.81-2.81c.8-.78.8-2.07 0-2.86zM5.41 20L4 18.59l7.72-7.72 1.47 1.35L5.41 20z\"/>\n",
              "  </svg>\n",
              "      </button>\n",
              "      \n",
              "  <style>\n",
              "    .colab-df-container {\n",
              "      display:flex;\n",
              "      flex-wrap:wrap;\n",
              "      gap: 12px;\n",
              "    }\n",
              "\n",
              "    .colab-df-convert {\n",
              "      background-color: #E8F0FE;\n",
              "      border: none;\n",
              "      border-radius: 50%;\n",
              "      cursor: pointer;\n",
              "      display: none;\n",
              "      fill: #1967D2;\n",
              "      height: 32px;\n",
              "      padding: 0 0 0 0;\n",
              "      width: 32px;\n",
              "    }\n",
              "\n",
              "    .colab-df-convert:hover {\n",
              "      background-color: #E2EBFA;\n",
              "      box-shadow: 0px 1px 2px rgba(60, 64, 67, 0.3), 0px 1px 3px 1px rgba(60, 64, 67, 0.15);\n",
              "      fill: #174EA6;\n",
              "    }\n",
              "\n",
              "    [theme=dark] .colab-df-convert {\n",
              "      background-color: #3B4455;\n",
              "      fill: #D2E3FC;\n",
              "    }\n",
              "\n",
              "    [theme=dark] .colab-df-convert:hover {\n",
              "      background-color: #434B5C;\n",
              "      box-shadow: 0px 1px 3px 1px rgba(0, 0, 0, 0.15);\n",
              "      filter: drop-shadow(0px 1px 2px rgba(0, 0, 0, 0.3));\n",
              "      fill: #FFFFFF;\n",
              "    }\n",
              "  </style>\n",
              "\n",
              "      <script>\n",
              "        const buttonEl =\n",
              "          document.querySelector('#df-d0bd8037-f289-46b4-b608-d9b1cf529a9a button.colab-df-convert');\n",
              "        buttonEl.style.display =\n",
              "          google.colab.kernel.accessAllowed ? 'block' : 'none';\n",
              "\n",
              "        async function convertToInteractive(key) {\n",
              "          const element = document.querySelector('#df-d0bd8037-f289-46b4-b608-d9b1cf529a9a');\n",
              "          const dataTable =\n",
              "            await google.colab.kernel.invokeFunction('convertToInteractive',\n",
              "                                                     [key], {});\n",
              "          if (!dataTable) return;\n",
              "\n",
              "          const docLinkHtml = 'Like what you see? Visit the ' +\n",
              "            '<a target=\"_blank\" href=https://colab.research.google.com/notebooks/data_table.ipynb>data table notebook</a>'\n",
              "            + ' to learn more about interactive tables.';\n",
              "          element.innerHTML = '';\n",
              "          dataTable['output_type'] = 'display_data';\n",
              "          await google.colab.output.renderOutput(dataTable, element);\n",
              "          const docLink = document.createElement('div');\n",
              "          docLink.innerHTML = docLinkHtml;\n",
              "          element.appendChild(docLink);\n",
              "        }\n",
              "      </script>\n",
              "    </div>\n",
              "  </div>\n",
              "  "
            ]
          },
          "metadata": {},
          "execution_count": 15
        }
      ]
    },
    {
      "cell_type": "markdown",
      "source": [
        "This resembles a sine curve but not exactly because of the noise. We’ll use this as an example to test different scenarios. Let's try to estimate the sine function using **polynomial regression** with powers of $x$ from $1$ to $15$.\n",
        "\n",
        "Let's add a column foreach power upto 15 in our dataframe. This can be accomplished using the following code:"
      ],
      "metadata": {
        "id": "8Eifh00vnENv"
      }
    },
    {
      "cell_type": "code",
      "source": [
        "for i in range(2,16):\n",
        "    colname = 'x_%d'%i\n",
        "    data[colname] = data['x']**i\n",
        "data.head()"
      ],
      "metadata": {
        "colab": {
          "base_uri": "https://localhost:8080/",
          "height": 357
        },
        "id": "pkpxi7uTnUO6",
        "outputId": "0534ac89-0fbe-495f-ed0b-c98b20db7cc8"
      },
      "execution_count": null,
      "outputs": [
        {
          "output_type": "execute_result",
          "data": {
            "text/plain": [
              "          x         y       x_2       x_3       x_4       x_5       x_6  \\\n",
              "0  0.174533  0.034684  0.030462  0.005317  0.000928  0.000162  0.000028   \n",
              "1  0.226893  0.024135  0.051480  0.011681  0.002650  0.000601  0.000136   \n",
              "2  0.279253 -0.063896  0.077982  0.021777  0.006081  0.001698  0.000474   \n",
              "3  0.331613 -0.000409  0.109967  0.036466  0.012093  0.004010  0.001330   \n",
              "4  0.383972  0.034913  0.147435  0.056611  0.021737  0.008346  0.003205   \n",
              "\n",
              "        x_7           x_8           x_9          x_10          x_11  \\\n",
              "0  0.000005  8.610313e-07  1.502783e-07  2.622851e-08  4.577739e-09   \n",
              "1  0.000031  7.023697e-06  1.593626e-06  3.615823e-07  8.204043e-08   \n",
              "2  0.000132  3.698101e-05  1.032705e-05  2.883856e-06  8.053244e-07   \n",
              "3  0.000441  1.462338e-04  4.849296e-05  1.608088e-05  5.332620e-06   \n",
              "4  0.001231  4.724984e-04  1.814264e-04  6.966273e-05  2.674857e-05   \n",
              "\n",
              "           x_12          x_13          x_14          x_15  \n",
              "0  7.989662e-10  1.394459e-10  2.433790e-11  4.247765e-12  \n",
              "1  1.861438e-08  4.223469e-09  9.582748e-10  2.174257e-10  \n",
              "2  2.248890e-07  6.280085e-08  1.753731e-08  4.897340e-09  \n",
              "3  1.768364e-06  5.864117e-07  1.944615e-07  6.448586e-08  \n",
              "4  1.027071e-05  3.943671e-06  1.514261e-06  5.814344e-07  "
            ],
            "text/html": [
              "\n",
              "  <div id=\"df-05441fb0-c431-4ee5-b366-d8e8e0076ae3\">\n",
              "    <div class=\"colab-df-container\">\n",
              "      <div>\n",
              "<style scoped>\n",
              "    .dataframe tbody tr th:only-of-type {\n",
              "        vertical-align: middle;\n",
              "    }\n",
              "\n",
              "    .dataframe tbody tr th {\n",
              "        vertical-align: top;\n",
              "    }\n",
              "\n",
              "    .dataframe thead th {\n",
              "        text-align: right;\n",
              "    }\n",
              "</style>\n",
              "<table border=\"1\" class=\"dataframe\">\n",
              "  <thead>\n",
              "    <tr style=\"text-align: right;\">\n",
              "      <th></th>\n",
              "      <th>x</th>\n",
              "      <th>y</th>\n",
              "      <th>x_2</th>\n",
              "      <th>x_3</th>\n",
              "      <th>x_4</th>\n",
              "      <th>x_5</th>\n",
              "      <th>x_6</th>\n",
              "      <th>x_7</th>\n",
              "      <th>x_8</th>\n",
              "      <th>x_9</th>\n",
              "      <th>x_10</th>\n",
              "      <th>x_11</th>\n",
              "      <th>x_12</th>\n",
              "      <th>x_13</th>\n",
              "      <th>x_14</th>\n",
              "      <th>x_15</th>\n",
              "    </tr>\n",
              "  </thead>\n",
              "  <tbody>\n",
              "    <tr>\n",
              "      <th>0</th>\n",
              "      <td>0.174533</td>\n",
              "      <td>0.034684</td>\n",
              "      <td>0.030462</td>\n",
              "      <td>0.005317</td>\n",
              "      <td>0.000928</td>\n",
              "      <td>0.000162</td>\n",
              "      <td>0.000028</td>\n",
              "      <td>0.000005</td>\n",
              "      <td>8.610313e-07</td>\n",
              "      <td>1.502783e-07</td>\n",
              "      <td>2.622851e-08</td>\n",
              "      <td>4.577739e-09</td>\n",
              "      <td>7.989662e-10</td>\n",
              "      <td>1.394459e-10</td>\n",
              "      <td>2.433790e-11</td>\n",
              "      <td>4.247765e-12</td>\n",
              "    </tr>\n",
              "    <tr>\n",
              "      <th>1</th>\n",
              "      <td>0.226893</td>\n",
              "      <td>0.024135</td>\n",
              "      <td>0.051480</td>\n",
              "      <td>0.011681</td>\n",
              "      <td>0.002650</td>\n",
              "      <td>0.000601</td>\n",
              "      <td>0.000136</td>\n",
              "      <td>0.000031</td>\n",
              "      <td>7.023697e-06</td>\n",
              "      <td>1.593626e-06</td>\n",
              "      <td>3.615823e-07</td>\n",
              "      <td>8.204043e-08</td>\n",
              "      <td>1.861438e-08</td>\n",
              "      <td>4.223469e-09</td>\n",
              "      <td>9.582748e-10</td>\n",
              "      <td>2.174257e-10</td>\n",
              "    </tr>\n",
              "    <tr>\n",
              "      <th>2</th>\n",
              "      <td>0.279253</td>\n",
              "      <td>-0.063896</td>\n",
              "      <td>0.077982</td>\n",
              "      <td>0.021777</td>\n",
              "      <td>0.006081</td>\n",
              "      <td>0.001698</td>\n",
              "      <td>0.000474</td>\n",
              "      <td>0.000132</td>\n",
              "      <td>3.698101e-05</td>\n",
              "      <td>1.032705e-05</td>\n",
              "      <td>2.883856e-06</td>\n",
              "      <td>8.053244e-07</td>\n",
              "      <td>2.248890e-07</td>\n",
              "      <td>6.280085e-08</td>\n",
              "      <td>1.753731e-08</td>\n",
              "      <td>4.897340e-09</td>\n",
              "    </tr>\n",
              "    <tr>\n",
              "      <th>3</th>\n",
              "      <td>0.331613</td>\n",
              "      <td>-0.000409</td>\n",
              "      <td>0.109967</td>\n",
              "      <td>0.036466</td>\n",
              "      <td>0.012093</td>\n",
              "      <td>0.004010</td>\n",
              "      <td>0.001330</td>\n",
              "      <td>0.000441</td>\n",
              "      <td>1.462338e-04</td>\n",
              "      <td>4.849296e-05</td>\n",
              "      <td>1.608088e-05</td>\n",
              "      <td>5.332620e-06</td>\n",
              "      <td>1.768364e-06</td>\n",
              "      <td>5.864117e-07</td>\n",
              "      <td>1.944615e-07</td>\n",
              "      <td>6.448586e-08</td>\n",
              "    </tr>\n",
              "    <tr>\n",
              "      <th>4</th>\n",
              "      <td>0.383972</td>\n",
              "      <td>0.034913</td>\n",
              "      <td>0.147435</td>\n",
              "      <td>0.056611</td>\n",
              "      <td>0.021737</td>\n",
              "      <td>0.008346</td>\n",
              "      <td>0.003205</td>\n",
              "      <td>0.001231</td>\n",
              "      <td>4.724984e-04</td>\n",
              "      <td>1.814264e-04</td>\n",
              "      <td>6.966273e-05</td>\n",
              "      <td>2.674857e-05</td>\n",
              "      <td>1.027071e-05</td>\n",
              "      <td>3.943671e-06</td>\n",
              "      <td>1.514261e-06</td>\n",
              "      <td>5.814344e-07</td>\n",
              "    </tr>\n",
              "  </tbody>\n",
              "</table>\n",
              "</div>\n",
              "      <button class=\"colab-df-convert\" onclick=\"convertToInteractive('df-05441fb0-c431-4ee5-b366-d8e8e0076ae3')\"\n",
              "              title=\"Convert this dataframe to an interactive table.\"\n",
              "              style=\"display:none;\">\n",
              "        \n",
              "  <svg xmlns=\"http://www.w3.org/2000/svg\" height=\"24px\"viewBox=\"0 0 24 24\"\n",
              "       width=\"24px\">\n",
              "    <path d=\"M0 0h24v24H0V0z\" fill=\"none\"/>\n",
              "    <path d=\"M18.56 5.44l.94 2.06.94-2.06 2.06-.94-2.06-.94-.94-2.06-.94 2.06-2.06.94zm-11 1L8.5 8.5l.94-2.06 2.06-.94-2.06-.94L8.5 2.5l-.94 2.06-2.06.94zm10 10l.94 2.06.94-2.06 2.06-.94-2.06-.94-.94-2.06-.94 2.06-2.06.94z\"/><path d=\"M17.41 7.96l-1.37-1.37c-.4-.4-.92-.59-1.43-.59-.52 0-1.04.2-1.43.59L10.3 9.45l-7.72 7.72c-.78.78-.78 2.05 0 2.83L4 21.41c.39.39.9.59 1.41.59.51 0 1.02-.2 1.41-.59l7.78-7.78 2.81-2.81c.8-.78.8-2.07 0-2.86zM5.41 20L4 18.59l7.72-7.72 1.47 1.35L5.41 20z\"/>\n",
              "  </svg>\n",
              "      </button>\n",
              "      \n",
              "  <style>\n",
              "    .colab-df-container {\n",
              "      display:flex;\n",
              "      flex-wrap:wrap;\n",
              "      gap: 12px;\n",
              "    }\n",
              "\n",
              "    .colab-df-convert {\n",
              "      background-color: #E8F0FE;\n",
              "      border: none;\n",
              "      border-radius: 50%;\n",
              "      cursor: pointer;\n",
              "      display: none;\n",
              "      fill: #1967D2;\n",
              "      height: 32px;\n",
              "      padding: 0 0 0 0;\n",
              "      width: 32px;\n",
              "    }\n",
              "\n",
              "    .colab-df-convert:hover {\n",
              "      background-color: #E2EBFA;\n",
              "      box-shadow: 0px 1px 2px rgba(60, 64, 67, 0.3), 0px 1px 3px 1px rgba(60, 64, 67, 0.15);\n",
              "      fill: #174EA6;\n",
              "    }\n",
              "\n",
              "    [theme=dark] .colab-df-convert {\n",
              "      background-color: #3B4455;\n",
              "      fill: #D2E3FC;\n",
              "    }\n",
              "\n",
              "    [theme=dark] .colab-df-convert:hover {\n",
              "      background-color: #434B5C;\n",
              "      box-shadow: 0px 1px 3px 1px rgba(0, 0, 0, 0.15);\n",
              "      filter: drop-shadow(0px 1px 2px rgba(0, 0, 0, 0.3));\n",
              "      fill: #FFFFFF;\n",
              "    }\n",
              "  </style>\n",
              "\n",
              "      <script>\n",
              "        const buttonEl =\n",
              "          document.querySelector('#df-05441fb0-c431-4ee5-b366-d8e8e0076ae3 button.colab-df-convert');\n",
              "        buttonEl.style.display =\n",
              "          google.colab.kernel.accessAllowed ? 'block' : 'none';\n",
              "\n",
              "        async function convertToInteractive(key) {\n",
              "          const element = document.querySelector('#df-05441fb0-c431-4ee5-b366-d8e8e0076ae3');\n",
              "          const dataTable =\n",
              "            await google.colab.kernel.invokeFunction('convertToInteractive',\n",
              "                                                     [key], {});\n",
              "          if (!dataTable) return;\n",
              "\n",
              "          const docLinkHtml = 'Like what you see? Visit the ' +\n",
              "            '<a target=\"_blank\" href=https://colab.research.google.com/notebooks/data_table.ipynb>data table notebook</a>'\n",
              "            + ' to learn more about interactive tables.';\n",
              "          element.innerHTML = '';\n",
              "          dataTable['output_type'] = 'display_data';\n",
              "          await google.colab.output.renderOutput(dataTable, element);\n",
              "          const docLink = document.createElement('div');\n",
              "          docLink.innerHTML = docLinkHtml;\n",
              "          element.appendChild(docLink);\n",
              "        }\n",
              "      </script>\n",
              "    </div>\n",
              "  </div>\n",
              "  "
            ]
          },
          "metadata": {},
          "execution_count": 17
        }
      ]
    },
    {
      "cell_type": "markdown",
      "source": [
        "---\n",
        "\n",
        "## Train-test data\n",
        "\n",
        "Let's now split the data into 'train' and 'test' data:"
      ],
      "metadata": {
        "id": "shCRNduUnqmK"
      }
    },
    {
      "cell_type": "code",
      "source": [
        "data['randNumCol'] = np.random.randint(1,6,data.shape[0])\n",
        "\n",
        "train = data[data['randNumCol']<=3]\n",
        "\n",
        "test = data[data['randNumCol']>3]\n",
        "\n",
        "train = train.drop('randNumCol', axis=1)\n",
        "\n",
        "test = test.drop('randNumCol', axis=1)"
      ],
      "metadata": {
        "id": "i4lPtMK6kKWJ"
      },
      "execution_count": null,
      "outputs": []
    },
    {
      "cell_type": "markdown",
      "source": [
        "---\n",
        "\n",
        "## Defining the linear regression\n",
        "\n",
        "We import the *linear regression model* from `scikit-learn`:"
      ],
      "metadata": {
        "id": "RH3vareiorqp"
      }
    },
    {
      "cell_type": "code",
      "source": [
        "from sklearn.linear_model import LinearRegression\n",
        "\n",
        "X_train = train.drop('y',axis=1).values\n",
        "y_train = train['y'].values\n",
        "\n",
        "X_test = test.drop('y',axis=1).values\n",
        "y_test = test['y'].values\n"
      ],
      "metadata": {
        "id": "Pf7cuDK9mC3G"
      },
      "execution_count": null,
      "outputs": []
    },
    {
      "cell_type": "markdown",
      "source": [
        "### Regression model 1\n",
        "\n",
        "We shall define now the regression model with *one* feature"
      ],
      "metadata": {
        "id": "wFkGowkVp4rt"
      }
    },
    {
      "cell_type": "code",
      "source": [
        "independent_variable_train = X_train[:,0:1]\n",
        "\n",
        "linreg = LinearRegression(normalize=True)\n",
        "linreg.fit(independent_variable_train,y_train)\n",
        "y_train_pred = linreg.predict(independent_variable_train)\n"
      ],
      "metadata": {
        "colab": {
          "base_uri": "https://localhost:8080/"
        },
        "id": "q1oEhFxSpp99",
        "outputId": "87f317df-c7d5-45b0-d71a-c4548bfaa32e"
      },
      "execution_count": null,
      "outputs": [
        {
          "output_type": "stream",
          "name": "stderr",
          "text": [
            "/usr/local/lib/python3.7/dist-packages/sklearn/linear_model/_base.py:145: FutureWarning: 'normalize' was deprecated in version 1.0 and will be removed in 1.2.\n",
            "If you wish to scale the data, use Pipeline with a StandardScaler in a preprocessing stage. To reproduce the previous behavior:\n",
            "\n",
            "from sklearn.pipeline import make_pipeline\n",
            "\n",
            "model = make_pipeline(StandardScaler(with_mean=False), LinearRegression())\n",
            "\n",
            "If you wish to pass a sample_weight parameter, you need to pass it as a fit parameter to each step of the pipeline as follows:\n",
            "\n",
            "kwargs = {s[0] + '__sample_weight': sample_weight for s in model.steps}\n",
            "model.fit(X, y, **kwargs)\n",
            "\n",
            "\n",
            "  FutureWarning,\n"
          ]
        }
      ]
    },
    {
      "cell_type": "markdown",
      "source": [
        "Collecting **RSS** for `train data`:"
      ],
      "metadata": {
        "id": "2sYq00SKqrzy"
      }
    },
    {
      "cell_type": "code",
      "source": [
        "rss_train =sum((y_train_pred - y_train)**2) / X_train.shape[0]\n",
        "print(\"Train Error\", rss_train)"
      ],
      "metadata": {
        "colab": {
          "base_uri": "https://localhost:8080/"
        },
        "id": "eixVua5HqLXc",
        "outputId": "f1b8d636-a00e-42ce-b87f-b311b9a11ee0"
      },
      "execution_count": null,
      "outputs": [
        {
          "output_type": "stream",
          "name": "stdout",
          "text": [
            "Train Error 0.012727915855398148\n"
          ]
        }
      ]
    },
    {
      "cell_type": "markdown",
      "source": [
        "plotting results in `train data`:"
      ],
      "metadata": {
        "id": "4niF32Z4sI2B"
      }
    },
    {
      "cell_type": "code",
      "source": [
        "plt.plot(X_train[:,0:1],y_train_pred)"
      ],
      "metadata": {
        "colab": {
          "base_uri": "https://localhost:8080/",
          "height": 282
        },
        "id": "fDl8G_HisNPF",
        "outputId": "d038eb91-6f59-4909-a04b-d79503316f22"
      },
      "execution_count": null,
      "outputs": [
        {
          "output_type": "execute_result",
          "data": {
            "text/plain": [
              "[<matplotlib.lines.Line2D at 0x7fe51dc82e50>]"
            ]
          },
          "metadata": {},
          "execution_count": 34
        },
        {
          "output_type": "display_data",
          "data": {
            "text/plain": [
              "<Figure size 432x288 with 1 Axes>"
            ],
            "image/png": "[encoded data removed]"
          },
          "metadata": {
            "needs_background": "light"
          }
        }
      ]
    },
    {
      "cell_type": "markdown",
      "source": [
        "Now, we move ahead into **testing** the model performance:"
      ],
      "metadata": {
        "id": "uN4YCneIq-it"
      }
    },
    {
      "cell_type": "code",
      "source": [
        "independent_variable_test = X_test[:,0:1]\n",
        "y_test_pred = linreg.predict(independent_variable_test)"
      ],
      "metadata": {
        "id": "Y-7_Xo6hq8Ck"
      },
      "execution_count": null,
      "outputs": []
    },
    {
      "cell_type": "markdown",
      "source": [
        "Now, we collect **RSS** for `test data`:"
      ],
      "metadata": {
        "id": "vjlZjda2rkGR"
      }
    },
    {
      "cell_type": "code",
      "source": [
        "rss_test =sum((y_test_pred - y_test)**2) / X_test.shape[0]\n",
        "print(\"Test Error\", rss_test)"
      ],
      "metadata": {
        "colab": {
          "base_uri": "https://localhost:8080/"
        },
        "id": "zCeQovCMrJxl",
        "outputId": "439c838b-273f-403f-c5eb-a410cefa6f62"
      },
      "execution_count": null,
      "outputs": [
        {
          "output_type": "stream",
          "name": "stdout",
          "text": [
            "Test Error 0.012439764672870782\n"
          ]
        }
      ]
    },
    {
      "cell_type": "markdown",
      "source": [
        "Plotting results in `test data`:"
      ],
      "metadata": {
        "id": "grwXr-kxr9C8"
      }
    },
    {
      "cell_type": "code",
      "source": [
        "plt.plot(X_test[:,0:1],y_test_pred,'.')"
      ],
      "metadata": {
        "colab": {
          "base_uri": "https://localhost:8080/",
          "height": 282
        },
        "id": "PEDczgP3rtT4",
        "outputId": "e2492069-e4bd-4dd5-aab2-e534bc5ec15e"
      },
      "execution_count": null,
      "outputs": [
        {
          "output_type": "execute_result",
          "data": {
            "text/plain": [
              "[<matplotlib.lines.Line2D at 0x7fe51d71bb50>]"
            ]
          },
          "metadata": {},
          "execution_count": 36
        },
        {
          "output_type": "display_data",
          "data": {
            "text/plain": [
              "<Figure size 432x288 with 1 Axes>"
            ],
            "image/png": "[encoded data removed]"
          },
          "metadata": {
            "needs_background": "light"
          }
        }
      ]
    },
    {
      "cell_type": "code",
      "source": [],
      "metadata": {
        "id": "FQfY_tb6sG8Q"
      },
      "execution_count": null,
      "outputs": []
    },
    {
      "cell_type": "markdown",
      "source": [
        "### Model 2\n",
        "\n",
        "We shall define now the regression model with *three* features\n"
      ],
      "metadata": {
        "id": "6iyF2NDesjI9"
      }
    },
    {
      "cell_type": "code",
      "source": [
        "independent_variable_train = X_train[:,0:3]\n",
        "\n",
        "linreg = LinearRegression(normalize=True)\n",
        "linreg.fit(independent_variable_train,y_train)\n",
        "y_train_pred = linreg.predict(independent_variable_train)\n"
      ],
      "metadata": {
        "colab": {
          "base_uri": "https://localhost:8080/"
        },
        "id": "U5woI6u8snWL",
        "outputId": "9e93f1e3-734c-4b43-9451-16d2876e686b"
      },
      "execution_count": null,
      "outputs": [
        {
          "output_type": "stream",
          "name": "stdout",
          "text": [
            "Train Error 0.01269886071136656\n"
          ]
        },
        {
          "output_type": "stream",
          "name": "stderr",
          "text": [
            "/usr/local/lib/python3.7/dist-packages/sklearn/linear_model/_base.py:145: FutureWarning: 'normalize' was deprecated in version 1.0 and will be removed in 1.2.\n",
            "If you wish to scale the data, use Pipeline with a StandardScaler in a preprocessing stage. To reproduce the previous behavior:\n",
            "\n",
            "from sklearn.pipeline import make_pipeline\n",
            "\n",
            "model = make_pipeline(StandardScaler(with_mean=False), LinearRegression())\n",
            "\n",
            "If you wish to pass a sample_weight parameter, you need to pass it as a fit parameter to each step of the pipeline as follows:\n",
            "\n",
            "kwargs = {s[0] + '__sample_weight': sample_weight for s in model.steps}\n",
            "model.fit(X, y, **kwargs)\n",
            "\n",
            "\n",
            "  FutureWarning,\n"
          ]
        }
      ]
    },
    {
      "cell_type": "code",
      "source": [
        "rss_train =sum((y_train_pred - y_train)**2) / X_train.shape[0]\n",
        "print(\"Train Error\", rss_train)\n",
        "plt.plot(X_train[:,0:1],y_train_pred)\n"
      ],
      "metadata": {
        "colab": {
          "base_uri": "https://localhost:8080/",
          "height": 300
        },
        "id": "GStnBlu6sxKz",
        "outputId": "547b3d9f-43c5-4515-ec4f-ce75696b7d9c"
      },
      "execution_count": null,
      "outputs": [
        {
          "output_type": "stream",
          "name": "stdout",
          "text": [
            "Train Error 0.01269886071136656\n"
          ]
        },
        {
          "output_type": "execute_result",
          "data": {
            "text/plain": [
              "[<matplotlib.lines.Line2D at 0x7fe51d69cdd0>]"
            ]
          },
          "metadata": {},
          "execution_count": 41
        },
        {
          "output_type": "display_data",
          "data": {
            "text/plain": [
              "<Figure size 432x288 with 1 Axes>"
            ],
            "image/png": "[encoded data removed]"
          },
          "metadata": {
            "needs_background": "light"
          }
        }
      ]
    },
    {
      "cell_type": "markdown",
      "source": [
        "Results with `test-data`"
      ],
      "metadata": {
        "id": "JpcpStc3teoN"
      }
    },
    {
      "cell_type": "code",
      "source": [
        "independent_variable_test = X_test[:,0:3]\n",
        "y_test_pred = linreg.predict(independent_variable_test)\n",
        "rss_test =sum((y_test_pred - y_test)**2) / X_test.shape[0]\n",
        "print(\"Test Error\", rss_test)\n",
        "plt.plot(X_test[:,0:1],y_test_pred,'.')\n"
      ],
      "metadata": {
        "colab": {
          "base_uri": "https://localhost:8080/",
          "height": 302
        },
        "id": "lZvBY-vvtFc4",
        "outputId": "3cc25bea-2909-4ee9-9a9e-f7e7d3e3e67a"
      },
      "execution_count": null,
      "outputs": [
        {
          "output_type": "stream",
          "name": "stdout",
          "text": [
            "Test Error 0.012685790756220304\n"
          ]
        },
        {
          "output_type": "execute_result",
          "data": {
            "text/plain": [
              "[<matplotlib.lines.Line2D at 0x7fe51d615ed0>]"
            ]
          },
          "metadata": {},
          "execution_count": 43
        },
        {
          "output_type": "display_data",
          "data": {
            "text/plain": [
              "<Figure size 432x288 with 1 Axes>"
            ],
            "image/png": "[encoded data removed]"
          },
          "metadata": {
            "needs_background": "light"
          }
        }
      ]
    },
    {
      "cell_type": "markdown",
      "source": [
        "---\n",
        "\n",
        "### Additional comments\n",
        "\n",
        "Let us define a generic function which takes in the required maximum power of $x$ as an input and returns a list containing *—\n",
        "[ model RSS, intercept, coef_x, coef_x2, …upto entered power ]-*.\n",
        "\n",
        "Here `RSS` refers to ‘Residual Sum of Squares’ which is nothing butthe sum of square of errors between the predicted and actual values in the trainingdata set. The python code defining the function is as follows.\n",
        "\n",
        "Let's import Linear Regression model from scikit-learn.\n"
      ],
      "metadata": {
        "id": "v4o2M_nGt4nC"
      }
    },
    {
      "cell_type": "code",
      "source": [
        "from sklearn.linear_model import LinearRegression\n",
        "def linear_regression(data, power, models_to_plot):\n",
        "  # Initialize predictors:\n",
        "  predictors=['x']\n",
        "  if power>=2:\n",
        "    predictors.extend(['x_%d'%i for i in range(2,power+1)])\n",
        "\n",
        "  #Fit the model\n",
        "  linreg = LinearRegression(normalize=True)\n",
        "  linreg.fit(data[predictors],data['y'])\n",
        "  y_pred = linreg.predict(data[predictors])  \n",
        "\n",
        "  # Check if a plot is to be made for the entered power\n",
        "  if power in models_to_plot:\n",
        "    plt.subplot(models_to_plot[power])\n",
        "    plt.tight_layout()\n",
        "    plt.plot(data['x'],y_pred)\n",
        "    plt.plot(data['x'],data['y'],'.')\n",
        "    plt.title('Plot for power: %d'%power)\n",
        "\n",
        "  # Return the result in pre-defined format\n",
        "  rss = sum((y_pred-data['y'])**2)\n",
        "  ret = [rss]\n",
        "  ret.extend([linreg.intercept_])\n",
        "  ret.extend(linreg.coef_)\n",
        "  return ret"
      ],
      "metadata": {
        "id": "Z5uvY35Htnok"
      },
      "execution_count": null,
      "outputs": []
    },
    {
      "cell_type": "markdown",
      "source": [
        "Note that this function will not plot the model fit for all the powers but will return the `RSS` and coefficients for all the models. \n",
        "\n",
        "Let's skip the details of the code for now to maintain brevity. \n",
        "\n",
        "Now, we can make all `15` models and compare the results. For ease of analysis, we'll store all the results in a Pandas dataframeand plot 6 models to get an idea of the trend. Consider the following code:\n",
        "\n",
        "a. Initialize a dataframe to store the results:"
      ],
      "metadata": {
        "id": "nmBWO8dluzol"
      }
    },
    {
      "cell_type": "code",
      "source": [
        "col = ['rss','intercept'] + ['coef_x_%d'%i for i in range(1,16)]\n",
        "ind = ['model_pow_%d'%i for i in range(1,16)]\n",
        "coef_matrix_simple = pd.DataFrame(index=ind, columns=col)"
      ],
      "metadata": {
        "id": "ja7Wiat4ur-p"
      },
      "execution_count": null,
      "outputs": []
    },
    {
      "cell_type": "markdown",
      "source": [
        "b. Define the powers for which a plot is required:\n"
      ],
      "metadata": {
        "id": "cJQ37BZYvP2C"
      }
    },
    {
      "cell_type": "code",
      "source": [
        "for i in range(1,16):"
      ],
      "metadata": {
        "id": "N7JpLlJtvSpE"
      },
      "execution_count": null,
      "outputs": []
    },
    {
      "cell_type": "markdown",
      "source": [
        "c. Iterate through all powers and assimilate results"
      ],
      "metadata": {
        "id": "waKLjBC7vb2-"
      }
    },
    {
      "cell_type": "code",
      "source": [
        "models_to_plot = {1:231,3:232,6:233,9:234,12:235,15:236}\n",
        "  coef_matrix_simple.iloc[i-1,0:i+2] = linear_regression(data, power=i, models_to_plot=models_to_plot)"
      ],
      "metadata": {
        "id": "Hv3Xm9j3vVTC"
      },
      "execution_count": null,
      "outputs": []
    },
    {
      "cell_type": "markdown",
      "source": [
        "## Ridge Regression\n",
        "\n",
        "As mentioned before, ridge regression performs `L2 regularization`, i.e. it adds a factor of sum of squares of coeffi cients in theoptimization objective. \n",
        "\n",
        "Thus, ridge regression optimizes the following:\n",
        "\n",
        "> Objective = RSS + $\\alpha$ * (sum of square of coeffi cients)\n",
        "\n",
        "Here, $\\alpha$ (alpha) is the parameter which balances the amount of emphasis given to minimizing RSS vs minimizing sum of square ofcoeffi cients. $\\alpha$ can take various values:\n",
        "\n",
        "1. $\\alpha = 0:$\n",
        "The objective becomes same as simple linear regression.\n",
        "We’ll get the same coeffi cients as simple linear regression.\n",
        "\n",
        "2. $\\alpha = \\infty$:\n",
        "The coeffi cients will be zero. Why? Because of infi nite weightage on square of coeffi cients, anything less than zerowill make the objective infi nite.\n",
        "\n",
        "3. $0 < \\alpha < \\infty$:\n",
        "The magnitude of $\\alpha$ will decide the weightage given to different parts of objective. \n",
        "\n",
        "The coefficients will be somewhere between 0 and ones for simple linear regression."
      ],
      "metadata": {
        "id": "EjkiSTJiz1yM"
      }
    },
    {
      "cell_type": "code",
      "source": [
        "from sklearn.linear_model import Ridge\n",
        "def ridge_regression(data, predictors, alpha, models_to_plot={}):\n",
        "  #Fit the model\n",
        "  ridgereg = Ridge(alpha=alpha,normalize=True)\n",
        "  ridgereg.fit(data[predictors],data['y'])\n",
        "  y_pred = ridgereg.predict(data[predictors])\n",
        "\n",
        "  #Check if a plot is to be made for the entered alpha\n",
        "  if alpha in models_to_plot:\n",
        "    plt.subplot(models_to_plot[alpha])\n",
        "    plt.tight_layout()\n",
        "    plt.plot(data['x'],y_pred)\n",
        "    plt.plot(data['x'],data['y'],'.')\n",
        "    plt.title('Plot for alpha: %.3g'%alpha)\n",
        "\n",
        "  #Return the result in pre-defined format\n",
        "  rss = sum((y_pred-data['y'])**2)\n",
        "  ret = [rss]\n",
        "  ret.extend([ridgereg.intercept_])\n",
        "  ret.extend(ridgereg.coef_)\n",
        "  return ret"
      ],
      "metadata": {
        "id": "rUmXJlEBz4MU"
      },
      "execution_count": null,
      "outputs": []
    },
    {
      "cell_type": "markdown",
      "source": [
        "Now, lets analyze the result of Ridge regression for 10 different values of α ranging from $1e-15$ to $20$. These values have beenchosen so that we can easily analyze the trend with change in values of $\\alpha$. These would however differ from case to case.\n",
        "\n",
        "Note that each of these 10 models will contain all the 15 variables and only the value of alpha would differ. This is different fromthe simple linear regression case where each model had a subset of features.\n",
        "\n",
        "a. Initialize predictors to be set of $15$ powers of $x$"
      ],
      "metadata": {
        "id": "QvkURUoV1UoN"
      }
    },
    {
      "cell_type": "code",
      "source": [
        "predictors=['x']\n",
        "predictors.extend(['x_%d'%i for i in range(2,16)])"
      ],
      "metadata": {
        "id": "mO5KKpJc1Rq9"
      },
      "execution_count": null,
      "outputs": []
    },
    {
      "cell_type": "markdown",
      "source": [
        "b. Set the different values of alpha to be tested"
      ],
      "metadata": {
        "id": "1y3Bu0i015Sr"
      }
    },
    {
      "cell_type": "code",
      "source": [
        "alpha_ridge = [1e-15, 1e-10, 1e-8, 1e-4, 1e-3,1e-2, 1, 5, 10, 20]"
      ],
      "metadata": {
        "id": "9riyGkwp1220"
      },
      "execution_count": null,
      "outputs": []
    },
    {
      "cell_type": "markdown",
      "source": [
        "c. Initialize the dataframe for storing coefficients"
      ],
      "metadata": {
        "id": "DFwOi4UV2EGn"
      }
    },
    {
      "cell_type": "code",
      "source": [
        "col = ['rss','intercept'] + ['coef_x_%d'%i for i in range(1,16)]\n",
        "ind = ['alpha_%.2g'%alpha_ridge[i] for i in range(0,10)]\n",
        "coef_matrix_ridge = pd.DataFrame(index=ind, columns=col)"
      ],
      "metadata": {
        "id": "pd9SCUhG19oY"
      },
      "execution_count": null,
      "outputs": []
    },
    {
      "cell_type": "code",
      "source": [
        "models_to_plot = {1e-15:231, 1e-10:232, 1e-4:233, 1e-3:234, 1e-2:235, 5:236}\n",
        "for i in range(10):\n",
        "  coef_matrix_ridge.iloc[i,] = ridge_regression(data, predictors, alpha_ridge[i], models_to_plot)"
      ],
      "metadata": {
        "colab": {
          "base_uri": "https://localhost:8080/",
          "height": 1000
        },
        "id": "dmm38rxQ2IeA",
        "outputId": "e5e47b0d-5952-4968-ae36-ba483df1f6f5"
      },
      "execution_count": null,
      "outputs": [
        {
          "output_type": "stream",
          "name": "stderr",
          "text": [
            "/usr/local/lib/python3.7/dist-packages/sklearn/linear_model/_base.py:145: FutureWarning: 'normalize' was deprecated in version 1.0 and will be removed in 1.2.\n",
            "If you wish to scale the data, use Pipeline with a StandardScaler in a preprocessing stage. To reproduce the previous behavior:\n",
            "\n",
            "from sklearn.pipeline import make_pipeline\n",
            "\n",
            "model = make_pipeline(StandardScaler(with_mean=False), Ridge())\n",
            "\n",
            "If you wish to pass a sample_weight parameter, you need to pass it as a fit parameter to each step of the pipeline as follows:\n",
            "\n",
            "kwargs = {s[0] + '__sample_weight': sample_weight for s in model.steps}\n",
            "model.fit(X, y, **kwargs)\n",
            "\n",
            "Set parameter alpha to: original_alpha * n_samples. \n",
            "  FutureWarning,\n",
            "/usr/local/lib/python3.7/dist-packages/sklearn/linear_model/_ridge.py:157: LinAlgWarning: Ill-conditioned matrix (rcond=3.49496e-17): result may not be accurate.\n",
            "  return linalg.solve(A, Xy, sym_pos=True, overwrite_a=True).T\n",
            "/usr/local/lib/python3.7/dist-packages/sklearn/linear_model/_base.py:145: FutureWarning: 'normalize' was deprecated in version 1.0 and will be removed in 1.2.\n",
            "If you wish to scale the data, use Pipeline with a StandardScaler in a preprocessing stage. To reproduce the previous behavior:\n",
            "\n",
            "from sklearn.pipeline import make_pipeline\n",
            "\n",
            "model = make_pipeline(StandardScaler(with_mean=False), Ridge())\n",
            "\n",
            "If you wish to pass a sample_weight parameter, you need to pass it as a fit parameter to each step of the pipeline as follows:\n",
            "\n",
            "kwargs = {s[0] + '__sample_weight': sample_weight for s in model.steps}\n",
            "model.fit(X, y, **kwargs)\n",
            "\n",
            "Set parameter alpha to: original_alpha * n_samples. \n",
            "  FutureWarning,\n",
            "/usr/local/lib/python3.7/dist-packages/sklearn/linear_model/_base.py:145: FutureWarning: 'normalize' was deprecated in version 1.0 and will be removed in 1.2.\n",
            "If you wish to scale the data, use Pipeline with a StandardScaler in a preprocessing stage. To reproduce the previous behavior:\n",
            "\n",
            "from sklearn.pipeline import make_pipeline\n",
            "\n",
            "model = make_pipeline(StandardScaler(with_mean=False), Ridge())\n",
            "\n",
            "If you wish to pass a sample_weight parameter, you need to pass it as a fit parameter to each step of the pipeline as follows:\n",
            "\n",
            "kwargs = {s[0] + '__sample_weight': sample_weight for s in model.steps}\n",
            "model.fit(X, y, **kwargs)\n",
            "\n",
            "Set parameter alpha to: original_alpha * n_samples. \n",
            "  FutureWarning,\n",
            "/usr/local/lib/python3.7/dist-packages/sklearn/linear_model/_base.py:145: FutureWarning: 'normalize' was deprecated in version 1.0 and will be removed in 1.2.\n",
            "If you wish to scale the data, use Pipeline with a StandardScaler in a preprocessing stage. To reproduce the previous behavior:\n",
            "\n",
            "from sklearn.pipeline import make_pipeline\n",
            "\n",
            "model = make_pipeline(StandardScaler(with_mean=False), Ridge())\n",
            "\n",
            "If you wish to pass a sample_weight parameter, you need to pass it as a fit parameter to each step of the pipeline as follows:\n",
            "\n",
            "kwargs = {s[0] + '__sample_weight': sample_weight for s in model.steps}\n",
            "model.fit(X, y, **kwargs)\n",
            "\n",
            "Set parameter alpha to: original_alpha * n_samples. \n",
            "  FutureWarning,\n",
            "/usr/local/lib/python3.7/dist-packages/sklearn/linear_model/_base.py:145: FutureWarning: 'normalize' was deprecated in version 1.0 and will be removed in 1.2.\n",
            "If you wish to scale the data, use Pipeline with a StandardScaler in a preprocessing stage. To reproduce the previous behavior:\n",
            "\n",
            "from sklearn.pipeline import make_pipeline\n",
            "\n",
            "model = make_pipeline(StandardScaler(with_mean=False), Ridge())\n",
            "\n",
            "If you wish to pass a sample_weight parameter, you need to pass it as a fit parameter to each step of the pipeline as follows:\n",
            "\n",
            "kwargs = {s[0] + '__sample_weight': sample_weight for s in model.steps}\n",
            "model.fit(X, y, **kwargs)\n",
            "\n",
            "Set parameter alpha to: original_alpha * n_samples. \n",
            "  FutureWarning,\n",
            "/usr/local/lib/python3.7/dist-packages/sklearn/linear_model/_base.py:145: FutureWarning: 'normalize' was deprecated in version 1.0 and will be removed in 1.2.\n",
            "If you wish to scale the data, use Pipeline with a StandardScaler in a preprocessing stage. To reproduce the previous behavior:\n",
            "\n",
            "from sklearn.pipeline import make_pipeline\n",
            "\n",
            "model = make_pipeline(StandardScaler(with_mean=False), Ridge())\n",
            "\n",
            "If you wish to pass a sample_weight parameter, you need to pass it as a fit parameter to each step of the pipeline as follows:\n",
            "\n",
            "kwargs = {s[0] + '__sample_weight': sample_weight for s in model.steps}\n",
            "model.fit(X, y, **kwargs)\n",
            "\n",
            "Set parameter alpha to: original_alpha * n_samples. \n",
            "  FutureWarning,\n",
            "/usr/local/lib/python3.7/dist-packages/sklearn/linear_model/_base.py:145: FutureWarning: 'normalize' was deprecated in version 1.0 and will be removed in 1.2.\n",
            "If you wish to scale the data, use Pipeline with a StandardScaler in a preprocessing stage. To reproduce the previous behavior:\n",
            "\n",
            "from sklearn.pipeline import make_pipeline\n",
            "\n",
            "model = make_pipeline(StandardScaler(with_mean=False), Ridge())\n",
            "\n",
            "If you wish to pass a sample_weight parameter, you need to pass it as a fit parameter to each step of the pipeline as follows:\n",
            "\n",
            "kwargs = {s[0] + '__sample_weight': sample_weight for s in model.steps}\n",
            "model.fit(X, y, **kwargs)\n",
            "\n",
            "Set parameter alpha to: original_alpha * n_samples. \n",
            "  FutureWarning,\n",
            "/usr/local/lib/python3.7/dist-packages/sklearn/linear_model/_base.py:145: FutureWarning: 'normalize' was deprecated in version 1.0 and will be removed in 1.2.\n",
            "If you wish to scale the data, use Pipeline with a StandardScaler in a preprocessing stage. To reproduce the previous behavior:\n",
            "\n",
            "from sklearn.pipeline import make_pipeline\n",
            "\n",
            "model = make_pipeline(StandardScaler(with_mean=False), Ridge())\n",
            "\n",
            "If you wish to pass a sample_weight parameter, you need to pass it as a fit parameter to each step of the pipeline as follows:\n",
            "\n",
            "kwargs = {s[0] + '__sample_weight': sample_weight for s in model.steps}\n",
            "model.fit(X, y, **kwargs)\n",
            "\n",
            "Set parameter alpha to: original_alpha * n_samples. \n",
            "  FutureWarning,\n",
            "/usr/local/lib/python3.7/dist-packages/sklearn/linear_model/_base.py:145: FutureWarning: 'normalize' was deprecated in version 1.0 and will be removed in 1.2.\n",
            "If you wish to scale the data, use Pipeline with a StandardScaler in a preprocessing stage. To reproduce the previous behavior:\n",
            "\n",
            "from sklearn.pipeline import make_pipeline\n",
            "\n",
            "model = make_pipeline(StandardScaler(with_mean=False), Ridge())\n",
            "\n",
            "If you wish to pass a sample_weight parameter, you need to pass it as a fit parameter to each step of the pipeline as follows:\n",
            "\n",
            "kwargs = {s[0] + '__sample_weight': sample_weight for s in model.steps}\n",
            "model.fit(X, y, **kwargs)\n",
            "\n",
            "Set parameter alpha to: original_alpha * n_samples. \n",
            "  FutureWarning,\n",
            "/usr/local/lib/python3.7/dist-packages/sklearn/linear_model/_base.py:145: FutureWarning: 'normalize' was deprecated in version 1.0 and will be removed in 1.2.\n",
            "If you wish to scale the data, use Pipeline with a StandardScaler in a preprocessing stage. To reproduce the previous behavior:\n",
            "\n",
            "from sklearn.pipeline import make_pipeline\n",
            "\n",
            "model = make_pipeline(StandardScaler(with_mean=False), Ridge())\n",
            "\n",
            "If you wish to pass a sample_weight parameter, you need to pass it as a fit parameter to each step of the pipeline as follows:\n",
            "\n",
            "kwargs = {s[0] + '__sample_weight': sample_weight for s in model.steps}\n",
            "model.fit(X, y, **kwargs)\n",
            "\n",
            "Set parameter alpha to: original_alpha * n_samples. \n",
            "  FutureWarning,\n"
          ]
        },
        {
          "output_type": "display_data",
          "data": {
            "text/plain": [
              "<Figure size 432x288 with 6 Axes>"
            ],
            "image/png": "[encoded data removed]"
          },
          "metadata": {
            "needs_background": "light"
          }
        }
      ]
    },
    {
      "cell_type": "markdown",
      "source": [
        "Let's observe that as the value of alpha increases, the model complexity reduces. Though higher values of alphareduce overfi tting, signifi cantly high values can cause underfi tting as well (eg. $\\alpha = 5$). Thus alpha should be chosen wisely. Awidely accept technique is cross-validation, i.e. the value of alpha is iterated over a range of values and the one giving higher cross-validation score is chosen.\n",
        "\n",
        "Lets have a look at the value of coeffi cients in the above models:\n",
        "\n",
        "a. Set the display format to be scientific for ease of analysis"
      ],
      "metadata": {
        "id": "67V2-_4T2SYE"
      }
    },
    {
      "cell_type": "code",
      "source": [
        "pd.options.display.float_format = '{:,.2g}'.format\n",
        "coef_matrix_ridge"
      ],
      "metadata": {
        "colab": {
          "base_uri": "https://localhost:8080/",
          "height": 427
        },
        "id": "6Xwk59sR2Ng5",
        "outputId": "3c215fc2-d636-4ff6-b650-a3e831246350"
      },
      "execution_count": null,
      "outputs": [
        {
          "output_type": "execute_result",
          "data": {
            "text/plain": [
              "             rss intercept coef_x_1 coef_x_2 coef_x_3 coef_x_4 coef_x_5  \\\n",
              "alpha_1e-15  1.4     0.084    -0.99      4.7      -11       14      -10   \n",
              "alpha_1e-10  1.4     0.077    -0.41     0.65    -0.34    0.029    0.026   \n",
              "alpha_1e-08  1.4     0.037     -0.2     0.35     -0.2    0.039   0.0015   \n",
              "alpha_0.0001 1.5    -0.014    0.053   -0.018 -0.00099  0.00022  5.8e-05   \n",
              "alpha_0.001  1.5    0.0042    0.022  -0.0085 -0.00037  9.8e-05  2.5e-05   \n",
              "alpha_0.01   1.5     0.017  -0.0002  -0.0017 -7.1e-05  2.1e-05  5.8e-06   \n",
              "alpha_1      1.5     0.011  -0.0006 -3.5e-05  3.4e-06  1.5e-06  2.9e-07   \n",
              "alpha_5      1.5      0.01 -0.00014 -9.7e-06  2.5e-07  2.1e-07  4.3e-08   \n",
              "alpha_10     1.5      0.01   -8e-05 -6.3e-06 -1.4e-07  5.9e-08  1.3e-08   \n",
              "alpha_20     1.5    0.0098 -4.5e-05   -4e-06 -2.2e-07  2.2e-09  1.8e-09   \n",
              "\n",
              "             coef_x_6 coef_x_7 coef_x_8 coef_x_9 coef_x_10 coef_x_11  \\\n",
              "alpha_1e-15       4.3    -0.99    0.073    0.019   -0.0045   0.00011   \n",
              "alpha_1e-10   -0.0052 -0.00056  0.00011  2.1e-05  -3.6e-07  -5.3e-07   \n",
              "alpha_1e-08  -0.00073 -8.9e-05  4.4e-06  2.5e-06   3.1e-07   9.1e-10   \n",
              "alpha_0.0001  7.9e-06  6.2e-07 -2.4e-08 -2.2e-08  -5.4e-09  -9.7e-10   \n",
              "alpha_0.001   3.5e-06    3e-07 -3.7e-09 -7.8e-09    -2e-09  -3.6e-10   \n",
              "alpha_0.01    9.5e-07  1.2e-07    1e-08  2.1e-10  -1.7e-10  -5.1e-11   \n",
              "alpha_1       4.5e-08  5.8e-09  5.9e-10  2.9e-11  -6.4e-12  -2.8e-12   \n",
              "alpha_5       6.1e-09    6e-10  1.4e-11 -1.3e-11  -4.6e-12  -1.2e-12   \n",
              "alpha_10      1.6e-09  5.5e-11 -3.5e-11 -1.4e-11  -3.5e-12  -7.8e-13   \n",
              "alpha_20     -1.7e-11 -1.1e-10 -4.1e-11 -1.1e-11  -2.4e-12    -5e-13   \n",
              "\n",
              "             coef_x_12 coef_x_13 coef_x_14 coef_x_15  \n",
              "alpha_1e-15    6.6e-05  -7.5e-06   1.7e-07   7.3e-09  \n",
              "alpha_1e-10   -5.5e-08   6.6e-09     2e-09  -1.9e-10  \n",
              "alpha_1e-08   -6.8e-09  -1.3e-09  -6.7e-11   3.1e-11  \n",
              "alpha_0.0001  -1.3e-10  -9.1e-12   1.7e-12   9.8e-13  \n",
              "alpha_0.001   -4.9e-11  -3.8e-12   4.2e-13   2.9e-13  \n",
              "alpha_0.01      -1e-11  -1.7e-12  -2.3e-13  -2.2e-14  \n",
              "alpha_1       -7.3e-13  -1.6e-13  -3.1e-14  -5.9e-15  \n",
              "alpha_5       -2.5e-13  -4.9e-14  -9.4e-15  -1.7e-15  \n",
              "alpha_10      -1.6e-13    -3e-14  -5.6e-15    -1e-15  \n",
              "alpha_20      -9.7e-14  -1.8e-14  -3.3e-15  -5.8e-16  "
            ],
            "text/html": [
              "\n",
              "  <div id=\"df-e8692ff8-8eee-4542-be81-59b1e352bc34\">\n",
              "    <div class=\"colab-df-container\">\n",
              "      <div>\n",
              "<style scoped>\n",
              "    .dataframe tbody tr th:only-of-type {\n",
              "        vertical-align: middle;\n",
              "    }\n",
              "\n",
              "    .dataframe tbody tr th {\n",
              "        vertical-align: top;\n",
              "    }\n",
              "\n",
              "    .dataframe thead th {\n",
              "        text-align: right;\n",
              "    }\n",
              "</style>\n",
              "<table border=\"1\" class=\"dataframe\">\n",
              "  <thead>\n",
              "    <tr style=\"text-align: right;\">\n",
              "      <th></th>\n",
              "      <th>rss</th>\n",
              "      <th>intercept</th>\n",
              "      <th>coef_x_1</th>\n",
              "      <th>coef_x_2</th>\n",
              "      <th>coef_x_3</th>\n",
              "      <th>coef_x_4</th>\n",
              "      <th>coef_x_5</th>\n",
              "      <th>coef_x_6</th>\n",
              "      <th>coef_x_7</th>\n",
              "      <th>coef_x_8</th>\n",
              "      <th>coef_x_9</th>\n",
              "      <th>coef_x_10</th>\n",
              "      <th>coef_x_11</th>\n",
              "      <th>coef_x_12</th>\n",
              "      <th>coef_x_13</th>\n",
              "      <th>coef_x_14</th>\n",
              "      <th>coef_x_15</th>\n",
              "    </tr>\n",
              "  </thead>\n",
              "  <tbody>\n",
              "    <tr>\n",
              "      <th>alpha_1e-15</th>\n",
              "      <td>1.4</td>\n",
              "      <td>0.084</td>\n",
              "      <td>-0.99</td>\n",
              "      <td>4.7</td>\n",
              "      <td>-11</td>\n",
              "      <td>14</td>\n",
              "      <td>-10</td>\n",
              "      <td>4.3</td>\n",
              "      <td>-0.99</td>\n",
              "      <td>0.073</td>\n",
              "      <td>0.019</td>\n",
              "      <td>-0.0045</td>\n",
              "      <td>0.00011</td>\n",
              "      <td>6.6e-05</td>\n",
              "      <td>-7.5e-06</td>\n",
              "      <td>1.7e-07</td>\n",
              "      <td>7.3e-09</td>\n",
              "    </tr>\n",
              "    <tr>\n",
              "      <th>alpha_1e-10</th>\n",
              "      <td>1.4</td>\n",
              "      <td>0.077</td>\n",
              "      <td>-0.41</td>\n",
              "      <td>0.65</td>\n",
              "      <td>-0.34</td>\n",
              "      <td>0.029</td>\n",
              "      <td>0.026</td>\n",
              "      <td>-0.0052</td>\n",
              "      <td>-0.00056</td>\n",
              "      <td>0.00011</td>\n",
              "      <td>2.1e-05</td>\n",
              "      <td>-3.6e-07</td>\n",
              "      <td>-5.3e-07</td>\n",
              "      <td>-5.5e-08</td>\n",
              "      <td>6.6e-09</td>\n",
              "      <td>2e-09</td>\n",
              "      <td>-1.9e-10</td>\n",
              "    </tr>\n",
              "    <tr>\n",
              "      <th>alpha_1e-08</th>\n",
              "      <td>1.4</td>\n",
              "      <td>0.037</td>\n",
              "      <td>-0.2</td>\n",
              "      <td>0.35</td>\n",
              "      <td>-0.2</td>\n",
              "      <td>0.039</td>\n",
              "      <td>0.0015</td>\n",
              "      <td>-0.00073</td>\n",
              "      <td>-8.9e-05</td>\n",
              "      <td>4.4e-06</td>\n",
              "      <td>2.5e-06</td>\n",
              "      <td>3.1e-07</td>\n",
              "      <td>9.1e-10</td>\n",
              "      <td>-6.8e-09</td>\n",
              "      <td>-1.3e-09</td>\n",
              "      <td>-6.7e-11</td>\n",
              "      <td>3.1e-11</td>\n",
              "    </tr>\n",
              "    <tr>\n",
              "      <th>alpha_0.0001</th>\n",
              "      <td>1.5</td>\n",
              "      <td>-0.014</td>\n",
              "      <td>0.053</td>\n",
              "      <td>-0.018</td>\n",
              "      <td>-0.00099</td>\n",
              "      <td>0.00022</td>\n",
              "      <td>5.8e-05</td>\n",
              "      <td>7.9e-06</td>\n",
              "      <td>6.2e-07</td>\n",
              "      <td>-2.4e-08</td>\n",
              "      <td>-2.2e-08</td>\n",
              "      <td>-5.4e-09</td>\n",
              "      <td>-9.7e-10</td>\n",
              "      <td>-1.3e-10</td>\n",
              "      <td>-9.1e-12</td>\n",
              "      <td>1.7e-12</td>\n",
              "      <td>9.8e-13</td>\n",
              "    </tr>\n",
              "    <tr>\n",
              "      <th>alpha_0.001</th>\n",
              "      <td>1.5</td>\n",
              "      <td>0.0042</td>\n",
              "      <td>0.022</td>\n",
              "      <td>-0.0085</td>\n",
              "      <td>-0.00037</td>\n",
              "      <td>9.8e-05</td>\n",
              "      <td>2.5e-05</td>\n",
              "      <td>3.5e-06</td>\n",
              "      <td>3e-07</td>\n",
              "      <td>-3.7e-09</td>\n",
              "      <td>-7.8e-09</td>\n",
              "      <td>-2e-09</td>\n",
              "      <td>-3.6e-10</td>\n",
              "      <td>-4.9e-11</td>\n",
              "      <td>-3.8e-12</td>\n",
              "      <td>4.2e-13</td>\n",
              "      <td>2.9e-13</td>\n",
              "    </tr>\n",
              "    <tr>\n",
              "      <th>alpha_0.01</th>\n",
              "      <td>1.5</td>\n",
              "      <td>0.017</td>\n",
              "      <td>-0.0002</td>\n",
              "      <td>-0.0017</td>\n",
              "      <td>-7.1e-05</td>\n",
              "      <td>2.1e-05</td>\n",
              "      <td>5.8e-06</td>\n",
              "      <td>9.5e-07</td>\n",
              "      <td>1.2e-07</td>\n",
              "      <td>1e-08</td>\n",
              "      <td>2.1e-10</td>\n",
              "      <td>-1.7e-10</td>\n",
              "      <td>-5.1e-11</td>\n",
              "      <td>-1e-11</td>\n",
              "      <td>-1.7e-12</td>\n",
              "      <td>-2.3e-13</td>\n",
              "      <td>-2.2e-14</td>\n",
              "    </tr>\n",
              "    <tr>\n",
              "      <th>alpha_1</th>\n",
              "      <td>1.5</td>\n",
              "      <td>0.011</td>\n",
              "      <td>-0.0006</td>\n",
              "      <td>-3.5e-05</td>\n",
              "      <td>3.4e-06</td>\n",
              "      <td>1.5e-06</td>\n",
              "      <td>2.9e-07</td>\n",
              "      <td>4.5e-08</td>\n",
              "      <td>5.8e-09</td>\n",
              "      <td>5.9e-10</td>\n",
              "      <td>2.9e-11</td>\n",
              "      <td>-6.4e-12</td>\n",
              "      <td>-2.8e-12</td>\n",
              "      <td>-7.3e-13</td>\n",
              "      <td>-1.6e-13</td>\n",
              "      <td>-3.1e-14</td>\n",
              "      <td>-5.9e-15</td>\n",
              "    </tr>\n",
              "    <tr>\n",
              "      <th>alpha_5</th>\n",
              "      <td>1.5</td>\n",
              "      <td>0.01</td>\n",
              "      <td>-0.00014</td>\n",
              "      <td>-9.7e-06</td>\n",
              "      <td>2.5e-07</td>\n",
              "      <td>2.1e-07</td>\n",
              "      <td>4.3e-08</td>\n",
              "      <td>6.1e-09</td>\n",
              "      <td>6e-10</td>\n",
              "      <td>1.4e-11</td>\n",
              "      <td>-1.3e-11</td>\n",
              "      <td>-4.6e-12</td>\n",
              "      <td>-1.2e-12</td>\n",
              "      <td>-2.5e-13</td>\n",
              "      <td>-4.9e-14</td>\n",
              "      <td>-9.4e-15</td>\n",
              "      <td>-1.7e-15</td>\n",
              "    </tr>\n",
              "    <tr>\n",
              "      <th>alpha_10</th>\n",
              "      <td>1.5</td>\n",
              "      <td>0.01</td>\n",
              "      <td>-8e-05</td>\n",
              "      <td>-6.3e-06</td>\n",
              "      <td>-1.4e-07</td>\n",
              "      <td>5.9e-08</td>\n",
              "      <td>1.3e-08</td>\n",
              "      <td>1.6e-09</td>\n",
              "      <td>5.5e-11</td>\n",
              "      <td>-3.5e-11</td>\n",
              "      <td>-1.4e-11</td>\n",
              "      <td>-3.5e-12</td>\n",
              "      <td>-7.8e-13</td>\n",
              "      <td>-1.6e-13</td>\n",
              "      <td>-3e-14</td>\n",
              "      <td>-5.6e-15</td>\n",
              "      <td>-1e-15</td>\n",
              "    </tr>\n",
              "    <tr>\n",
              "      <th>alpha_20</th>\n",
              "      <td>1.5</td>\n",
              "      <td>0.0098</td>\n",
              "      <td>-4.5e-05</td>\n",
              "      <td>-4e-06</td>\n",
              "      <td>-2.2e-07</td>\n",
              "      <td>2.2e-09</td>\n",
              "      <td>1.8e-09</td>\n",
              "      <td>-1.7e-11</td>\n",
              "      <td>-1.1e-10</td>\n",
              "      <td>-4.1e-11</td>\n",
              "      <td>-1.1e-11</td>\n",
              "      <td>-2.4e-12</td>\n",
              "      <td>-5e-13</td>\n",
              "      <td>-9.7e-14</td>\n",
              "      <td>-1.8e-14</td>\n",
              "      <td>-3.3e-15</td>\n",
              "      <td>-5.8e-16</td>\n",
              "    </tr>\n",
              "  </tbody>\n",
              "</table>\n",
              "</div>\n",
              "      <button class=\"colab-df-convert\" onclick=\"convertToInteractive('df-e8692ff8-8eee-4542-be81-59b1e352bc34')\"\n",
              "              title=\"Convert this dataframe to an interactive table.\"\n",
              "              style=\"display:none;\">\n",
              "        \n",
              "  <svg xmlns=\"http://www.w3.org/2000/svg\" height=\"24px\"viewBox=\"0 0 24 24\"\n",
              "       width=\"24px\">\n",
              "    <path d=\"M0 0h24v24H0V0z\" fill=\"none\"/>\n",
              "    <path d=\"M18.56 5.44l.94 2.06.94-2.06 2.06-.94-2.06-.94-.94-2.06-.94 2.06-2.06.94zm-11 1L8.5 8.5l.94-2.06 2.06-.94-2.06-.94L8.5 2.5l-.94 2.06-2.06.94zm10 10l.94 2.06.94-2.06 2.06-.94-2.06-.94-.94-2.06-.94 2.06-2.06.94z\"/><path d=\"M17.41 7.96l-1.37-1.37c-.4-.4-.92-.59-1.43-.59-.52 0-1.04.2-1.43.59L10.3 9.45l-7.72 7.72c-.78.78-.78 2.05 0 2.83L4 21.41c.39.39.9.59 1.41.59.51 0 1.02-.2 1.41-.59l7.78-7.78 2.81-2.81c.8-.78.8-2.07 0-2.86zM5.41 20L4 18.59l7.72-7.72 1.47 1.35L5.41 20z\"/>\n",
              "  </svg>\n",
              "      </button>\n",
              "      \n",
              "  <style>\n",
              "    .colab-df-container {\n",
              "      display:flex;\n",
              "      flex-wrap:wrap;\n",
              "      gap: 12px;\n",
              "    }\n",
              "\n",
              "    .colab-df-convert {\n",
              "      background-color: #E8F0FE;\n",
              "      border: none;\n",
              "      border-radius: 50%;\n",
              "      cursor: pointer;\n",
              "      display: none;\n",
              "      fill: #1967D2;\n",
              "      height: 32px;\n",
              "      padding: 0 0 0 0;\n",
              "      width: 32px;\n",
              "    }\n",
              "\n",
              "    .colab-df-convert:hover {\n",
              "      background-color: #E2EBFA;\n",
              "      box-shadow: 0px 1px 2px rgba(60, 64, 67, 0.3), 0px 1px 3px 1px rgba(60, 64, 67, 0.15);\n",
              "      fill: #174EA6;\n",
              "    }\n",
              "\n",
              "    [theme=dark] .colab-df-convert {\n",
              "      background-color: #3B4455;\n",
              "      fill: #D2E3FC;\n",
              "    }\n",
              "\n",
              "    [theme=dark] .colab-df-convert:hover {\n",
              "      background-color: #434B5C;\n",
              "      box-shadow: 0px 1px 3px 1px rgba(0, 0, 0, 0.15);\n",
              "      filter: drop-shadow(0px 1px 2px rgba(0, 0, 0, 0.3));\n",
              "      fill: #FFFFFF;\n",
              "    }\n",
              "  </style>\n",
              "\n",
              "      <script>\n",
              "        const buttonEl =\n",
              "          document.querySelector('#df-e8692ff8-8eee-4542-be81-59b1e352bc34 button.colab-df-convert');\n",
              "        buttonEl.style.display =\n",
              "          google.colab.kernel.accessAllowed ? 'block' : 'none';\n",
              "\n",
              "        async function convertToInteractive(key) {\n",
              "          const element = document.querySelector('#df-e8692ff8-8eee-4542-be81-59b1e352bc34');\n",
              "          const dataTable =\n",
              "            await google.colab.kernel.invokeFunction('convertToInteractive',\n",
              "                                                     [key], {});\n",
              "          if (!dataTable) return;\n",
              "\n",
              "          const docLinkHtml = 'Like what you see? Visit the ' +\n",
              "            '<a target=\"_blank\" href=https://colab.research.google.com/notebooks/data_table.ipynb>data table notebook</a>'\n",
              "            + ' to learn more about interactive tables.';\n",
              "          element.innerHTML = '';\n",
              "          dataTable['output_type'] = 'display_data';\n",
              "          await google.colab.output.renderOutput(dataTable, element);\n",
              "          const docLink = document.createElement('div');\n",
              "          docLink.innerHTML = docLinkHtml;\n",
              "          element.appendChild(docLink);\n",
              "        }\n",
              "      </script>\n",
              "    </div>\n",
              "  </div>\n",
              "  "
            ]
          },
          "metadata": {},
          "execution_count": 54
        }
      ]
    },
    {
      "cell_type": "markdown",
      "source": [
        "This straight away gives us the following inferences:\n",
        "\n",
        "1. The RSS increases with increase in $\\alpha$, this model complexity reduces\n",
        "\n",
        "2. An alpha as small as $1e-15$ gives us significant reduction in magnitude of coefficients. How? Compare the coeffi cients inthe fi rst row of this table to the last row of simple linear regression table.\n",
        "\n",
        "3. High alpha values can lead to significant underfitting. Note the rapid increase in RSS for values of alpha greater than 1\n",
        "\n",
        "4. Though the coeffi cients are very very small, they are NOT zero.\n",
        "\n",
        "The first $3$ are very intuitive. But $4th$ is also a crucial observation. \n",
        "\n",
        "Let’s reconfirm the same by determining the number of zerosin each row of the coefficients data set:"
      ],
      "metadata": {
        "id": "n_W7EAbi2mHJ"
      }
    },
    {
      "cell_type": "code",
      "source": [
        "coef_matrix_ridge.apply(lambda x: sum(x.values==0),axis=1)"
      ],
      "metadata": {
        "colab": {
          "base_uri": "https://localhost:8080/"
        },
        "id": "zNbpZee62i0F",
        "outputId": "e6ddfdee-0bc4-4085-8012-8e4b1341d1ad"
      },
      "execution_count": null,
      "outputs": [
        {
          "output_type": "execute_result",
          "data": {
            "text/plain": [
              "alpha_1e-15     0\n",
              "alpha_1e-10     0\n",
              "alpha_1e-08     0\n",
              "alpha_0.0001    0\n",
              "alpha_0.001     0\n",
              "alpha_0.01      0\n",
              "alpha_1         0\n",
              "alpha_5         0\n",
              "alpha_10        0\n",
              "alpha_20        0\n",
              "dtype: int64"
            ]
          },
          "metadata": {},
          "execution_count": 55
        }
      ]
    },
    {
      "cell_type": "markdown",
      "source": [
        "This confi rms that all the $15$ coefficients are greater than zero in magnitude (can be +ve or -ve). Remember this observation andhave a look again until its clear. This will play an important role in later while comparing ridge with lasso regression."
      ],
      "metadata": {
        "id": "jNQEmxcE3Apr"
      }
    },
    {
      "cell_type": "markdown",
      "source": [
        "## Lasso Regression\n",
        "\n",
        "**Lasso** stands for 'Least Absolute Shrinkage and Selection Operator'. I know it doesn’t give much of an idea but there are 2 keywords here – ‘absolute‘ and ‘selection‘.\n",
        "\n",
        "Lets consider the former fi rst and worry about the latter later.\n",
        "\n",
        "Lasso regression performs **L1 regularization**, i.e. it adds a factor of sum of absolute value of coeffi cients in the optimization objective.\n",
        "\n",
        "Like that of ridge, α can take various values. Lets iterate it here briefl y:\n",
        "\n",
        "1. $\\alpha = 0$: Same coefficients as simple linear regression\n",
        "\n",
        "2. $\\alpha = ∞$: All coefficients zero (same logic as before)\n",
        "\n",
        "3. $0 < \\alpha < \\infty$: Coefficients between 0 and that of simple linear regression.\n",
        "\n",
        "Yes its appearing to be very similar to Ridge till now. But just hang on with me and you'll know the difference by the time we finish.\n",
        "\n",
        "Like before, lets run lasso regression on the same problem as above. First we'll defi ne a generic function:"
      ],
      "metadata": {
        "id": "7YQSVCI83VV8"
      }
    },
    {
      "cell_type": "code",
      "source": [
        "from sklearn.linear_model import Lasso\n",
        "def lasso_regression(data, predictors, alpha, models_to_plot={}):\n",
        "  lassoreg = Lasso(alpha=alpha,normalize=True, max_iter=1e5)\n",
        "  lassoreg.fit(data[predictors],data['y'])\n",
        "  y_pred = lassoreg.predict(data[predictors])\n",
        "  \n",
        "  if alpha in models_to_plot:\n",
        "    plt.subplot(models_to_plot[alpha])\n",
        "    plt.tight_layout()\n",
        "    plt.plot(data['x'],y_pred)\n",
        "    plt.plot(data['x'],data['y'],'.')\n",
        "    plt.title('Plot for alpha: %.3g'%alpha)\n",
        "\n",
        "  rss = sum((y_pred-data['y'])**2)\n",
        "  ret = [rss]\n",
        "  ret.extend([lassoreg.intercept_])\n",
        "  ret.extend(lassoreg.coef_)\n",
        "  return ret"
      ],
      "metadata": {
        "id": "idrZ0WNT2-Vx"
      },
      "execution_count": null,
      "outputs": []
    },
    {
      "cell_type": "markdown",
      "source": [
        "Notice the additional parameters defi ned in Lasso function – 'max_iter'. This is the maximum number of iterations for which wewant the model to run if it doesn’t converge before. This exists for Ridge as as well but setting this to a higher than default valuewas required in this case. Why? I’ll come to this in next section, just keep it in the back of the envelope.\n",
        "\n",
        "Lets check the output for 10 different values of alpha using the following code:"
      ],
      "metadata": {
        "id": "2czN7eOL4mrr"
      }
    },
    {
      "cell_type": "code",
      "source": [
        "predictors=['x']\n",
        "predictors.extend(['x_%d'%i for i in range(2,16)])"
      ],
      "metadata": {
        "id": "wen9q5Gq4mMW"
      },
      "execution_count": null,
      "outputs": []
    },
    {
      "cell_type": "markdown",
      "source": [
        "b. Define the alpha values to test"
      ],
      "metadata": {
        "id": "DlSoN6AQ5cFC"
      }
    },
    {
      "cell_type": "code",
      "source": [
        "alpha_lasso = [1e-15, 1e-10, 1e-8, 1e-5,1e-4, 1e-3,1e-2, 1, 5, 10]\n"
      ],
      "metadata": {
        "id": "ZxRY9AhS5eWy"
      },
      "execution_count": null,
      "outputs": []
    },
    {
      "cell_type": "markdown",
      "source": [
        "c. Initialize the dataframe to store coefficients\n"
      ],
      "metadata": {
        "id": "pVePJ3tT5gqj"
      }
    },
    {
      "cell_type": "code",
      "source": [
        "col = ['rss','intercept'] + ['coef_x_%d'%i for i in range(1,16)]\n",
        "ind = ['alpha_%.2g'%alpha_lasso[i] for i in range(0,10)]\n",
        "coef_matrix_lasso = pd.DataFrame(index=ind, columns=col)"
      ],
      "metadata": {
        "id": "Jo1oIORg5fEZ"
      },
      "execution_count": null,
      "outputs": []
    },
    {
      "cell_type": "markdown",
      "source": [
        "c. Define the models to plot"
      ],
      "metadata": {
        "id": "S0OZMlb25puW"
      }
    },
    {
      "cell_type": "code",
      "source": [
        "models_to_plot = {1e-10:231, 1e-5:232,1e-4:233, 1e-3:234, 1e-2:235, 1:236}"
      ],
      "metadata": {
        "id": "A8nKYjsu5k69"
      },
      "execution_count": null,
      "outputs": []
    },
    {
      "cell_type": "markdown",
      "source": [
        "d. Iterate over the 10 alpha values:\n"
      ],
      "metadata": {
        "id": "DrW2hwsf5uHS"
      }
    },
    {
      "cell_type": "code",
      "source": [
        "for i in range(10):\n",
        "  coef_matrix_lasso.iloc[i,] = lasso_regression(data, predictors, alpha_lasso[i], models_to_plot)"
      ],
      "metadata": {
        "colab": {
          "base_uri": "https://localhost:8080/",
          "height": 183
        },
        "id": "LDoxQiZm5sGa",
        "outputId": "29454791-c74e-4dda-a231-9fca6ce583cc"
      },
      "execution_count": null,
      "outputs": [
        {
          "output_type": "error",
          "ename": "NameError",
          "evalue": "ignored",
          "traceback": [
            "\u001b[0;31m---------------------------------------------------------------------------\u001b[0m",
            "\u001b[0;31mNameError\u001b[0m                                 Traceback (most recent call last)",
            "\u001b[0;32m<ipython-input-60-f956f216c204>\u001b[0m in \u001b[0;36m<module>\u001b[0;34m\u001b[0m\n\u001b[1;32m      1\u001b[0m \u001b[0;32mfor\u001b[0m \u001b[0mi\u001b[0m \u001b[0;32min\u001b[0m \u001b[0mrange\u001b[0m\u001b[0;34m(\u001b[0m\u001b[0;36m10\u001b[0m\u001b[0;34m)\u001b[0m\u001b[0;34m:\u001b[0m\u001b[0;34m\u001b[0m\u001b[0;34m\u001b[0m\u001b[0m\n\u001b[0;32m----> 2\u001b[0;31m   \u001b[0mcoef_matrix_lasso\u001b[0m\u001b[0;34m.\u001b[0m\u001b[0miloc\u001b[0m\u001b[0;34m[\u001b[0m\u001b[0mi\u001b[0m\u001b[0;34m,\u001b[0m\u001b[0;34m]\u001b[0m \u001b[0;34m=\u001b[0m \u001b[0mlasso_regression\u001b[0m\u001b[0;34m(\u001b[0m\u001b[0mdata\u001b[0m\u001b[0;34m,\u001b[0m \u001b[0mpredictors\u001b[0m\u001b[0;34m,\u001b[0m \u001b[0malpha_lasso\u001b[0m\u001b[0;34m[\u001b[0m\u001b[0mi\u001b[0m\u001b[0;34m]\u001b[0m\u001b[0;34m,\u001b[0m \u001b[0mmodels_to_plot\u001b[0m\u001b[0;34m)\u001b[0m\u001b[0;34m\u001b[0m\u001b[0;34m\u001b[0m\u001b[0m\n\u001b[0m",
            "\u001b[0;31mNameError\u001b[0m: name 'lasso_regression' is not defined"
          ]
        }
      ]
    },
    {
      "cell_type": "code",
      "source": [],
      "metadata": {
        "id": "FPwLrWKi5zif"
      },
      "execution_count": null,
      "outputs": []
    }
  ]
}
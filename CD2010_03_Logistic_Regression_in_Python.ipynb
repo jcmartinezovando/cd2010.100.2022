{
  "nbformat": 4,
  "nbformat_minor": 0,
  "metadata": {
    "colab": {
      "name": "CD2010 03 Logistic Regression in Python.ipynb",
      "provenance": [],
      "collapsed_sections": []
    },
    "kernelspec": {
      "name": "python3",
      "display_name": "Python 3"
    },
    "language_info": {
      "name": "python"
    }
  },
  "cells": [
    {
      "cell_type": "markdown",
      "source": [
        "# Logistic Regression in Python With `scikit-learn`\n",
        "\n",
        "This is the most straightforward kind of classification problem. There are several general steps you’ll take when you’re preparing your classification models:\n",
        "\n",
        "1. **Import packages**, functions, and classes\n",
        "2. **Get data** to work with and, if appropriate, transform it\n",
        "3. **Create a classification model** and train (or fit) it with your existing data\n",
        "4. **Evaluate your model** to see if its performance is satisfactory\n",
        "\n",
        "A sufficiently good model that you define can be used to make further predictions related to new, unseen data. The above procedure is the same for classification and regression.\n"
      ],
      "metadata": {
        "id": "AOGSxfyKHz_g"
      }
    },
    {
      "cell_type": "markdown",
      "source": [
        "## Step 1: Import Packages, Functions, and Classes\n",
        "\n",
        "First, you have to import `Matplotlib` for visualization and `NumPy` for array operations. You’ll also need `LogisticRegression`, `classification_report()`, and `confusion_matrix()` from `scikit-learn`:\n",
        "\n"
      ],
      "metadata": {
        "id": "GgFAwPqbIa2Q"
      }
    },
    {
      "cell_type": "code",
      "source": [
        "import matplotlib.pyplot as plt\n",
        "import numpy as np\n",
        "from sklearn.linear_model import LogisticRegression\n",
        "from sklearn.metrics import classification_report, confusion_matrix"
      ],
      "metadata": {
        "id": "5Q1hxzm6IoSU"
      },
      "execution_count": 1,
      "outputs": []
    },
    {
      "cell_type": "markdown",
      "source": [
        "## Step 2: Get Data\n",
        "\n",
        "In practice, you’ll usually have some data to work with. For the purpose of this example, let’s just create arrays for the input ($𝑥$) and output ($𝑦$) values:"
      ],
      "metadata": {
        "id": "JYAdNLlvIzYt"
      }
    },
    {
      "cell_type": "code",
      "source": [
        "x = np.arange(10).reshape(-1, 1)\n",
        "y = np.array([0, 0, 0, 0, 1, 1, 1, 1, 1, 1])"
      ],
      "metadata": {
        "id": "8_ofhWkGI8JL"
      },
      "execution_count": 2,
      "outputs": []
    },
    {
      "cell_type": "markdown",
      "source": [
        "The input and output should be `NumPy` arrays (instances of the class `numpy.ndarray`) or similar objects. `numpy.arange()` creates an array of consecutive, equally-spaced values within a given range. \n",
        "\n",
        "The array $x$ is required to be two-dimensional. It should have one column for each input, and the number of rows should be equal to the number of observations. To make $x$ two-dimensional, you apply `.reshape()` with the arguments `-1` to get as many rows as needed and `1` to get one column. "
      ],
      "metadata": {
        "id": "mH0DgwtAJEiW"
      }
    },
    {
      "cell_type": "markdown",
      "source": [
        "Thus $x$ will have two dimensions:\n",
        "\n",
        "* One column for a single input\n",
        "* Ten rows, each corresponding to one observation\n",
        "\n",
        "And $y$ is one-dimensional with ten items. \n",
        "\n",
        "Again, each item corresponds to one observation. It contains only zeros and ones since this is a binary classification problem."
      ],
      "metadata": {
        "id": "7OnpPBkdJs9a"
      }
    },
    {
      "cell_type": "markdown",
      "source": [
        "## Step 3: Create a Model and Train It\n",
        "\n",
        "Once you have the input and output prepared, you can create and define your classification model. You’re going to represent it with an instance of the class `LogisticRegression`:\n"
      ],
      "metadata": {
        "id": "gnGX6RSiJ97a"
      }
    },
    {
      "cell_type": "code",
      "source": [
        "model = LogisticRegression(solver='liblinear', random_state=0)"
      ],
      "metadata": {
        "id": "DzrOvoQiKD4z"
      },
      "execution_count": 6,
      "outputs": []
    },
    {
      "cell_type": "markdown",
      "source": [
        "The above statement creates an instance of `LogisticRegression` and binds its references to the variable model. `LogisticRegression` has several optional parameters that define the behavior of the model and approach:\n",
        "\n",
        "* `penalty` is a string ('l2' by default) that decides whether there is regularization and which approach to use. Other options are 'l1', 'elasticnet', and 'none'.\n",
        "\n",
        "* `dual` is a Boolean (False by default) that decides whether to use primal (when False) or dual formulation (when True).\n",
        "\n",
        "* `tol` is a floating-point number (0.0001 by default) that defines the tolerance for stopping the procedure.\n",
        "\n",
        "* `C` is a positive floating-point number (1.0 by default) that defines the relative strength of regularization. Smaller values indicate stronger regularization.\n",
        "\n",
        "* `fit_intercept` is a Boolean (True by default) that decides whether to calculate the intercept 𝑏₀ (when True) or consider it equal to zero (when False).\n",
        "\n",
        "* `intercept_scaling` is a floating-point number (1.0 by default) that defines the scaling of the intercept 𝑏₀.\n",
        "\n",
        "* `class_weight` is a dictionary, 'balanced', or None (default) that defines the weights related to each class. When None, all classes have the weight one.\n",
        "\n",
        "* `random_state` is an integer, an instance of numpy.RandomState, or None (default) that defines what pseudo-random number generator to use.\n",
        "\n",
        "* `solver` is a string ('liblinear' by default) that decides what solver to use for fitting the model. Other options are 'newton-cg', 'lbfgs', 'sag', and 'saga'.\n",
        "\n",
        "* `max_iter` is an integer (100 by default) that defines the maximum number of iterations by the solver during model fitting.\n",
        "\n",
        "* `multi_class` is a string ('ovr' by default) that decides the approach to use for handling multiple classes. Other options are 'multinomial' and 'auto'.\n",
        "\n",
        "* `verbose` is a non-negative integer (0 by default) that defines the verbosity for the 'liblinear' and 'lbfgs' solvers.\n",
        "\n",
        "* `warm_start` is a Boolean (False by default) that decides whether to reuse the previously obtained solution.\n",
        "\n",
        "* `n_jobs` is an integer or None (default) that defines the number of parallel processes to use. None usually means to use one core, while -1 means to use all available cores.\n",
        "\n",
        "* `l1_ratio` is either a floating-point number between zero and one or None (default). It defines the relative importance of the L1 part in the elastic-net regularization."
      ],
      "metadata": {
        "id": "SofDrr6lKU2d"
      }
    },
    {
      "cell_type": "markdown",
      "source": [
        "You should carefully match the solver and regularization method for several reasons:\n",
        "\n",
        "* `liblinear` solver doesn’t work without regularization.\n",
        "* 'newton-cg', 'sag', 'saga', and 'lbfgs' don’t support L1 regularization.\n",
        "* 'saga' is the only solver that supports elastic-net regularization.\n",
        "\n",
        "Once the model is created, you need to fit (or train) it. Model fitting is the process of determining the coefficients $𝑏_0, 𝑏_1, ..., 𝑏_r$ that correspond to the best value of the cost function. You fit the model with `.fit()`:\n",
        "\n"
      ],
      "metadata": {
        "id": "1eP6JN1dK2nJ"
      }
    },
    {
      "cell_type": "code",
      "source": [
        "model.fit(x, y)"
      ],
      "metadata": {
        "colab": {
          "base_uri": "https://localhost:8080/"
        },
        "id": "IJvxga1bLIwZ",
        "outputId": "b43d8f17-59f3-4225-990d-f5fca098297f"
      },
      "execution_count": 8,
      "outputs": [
        {
          "output_type": "execute_result",
          "data": {
            "text/plain": [
              "LogisticRegression(random_state=0, solver='liblinear')"
            ]
          },
          "metadata": {},
          "execution_count": 8
        }
      ]
    },
    {
      "cell_type": "markdown",
      "source": [
        "`.fit()` takes $x$, $y$, and possibly observation-related weights. Then it fits the model and returns the model instance itself:"
      ],
      "metadata": {
        "id": "CpKaRkSmLO-J"
      }
    },
    {
      "cell_type": "code",
      "source": [
        "LogisticRegression(C=1.0, class_weight=None, dual=False, fit_intercept=True,\n",
        "                   intercept_scaling=1, l1_ratio=None, max_iter=100,\n",
        "                   multi_class='warn', n_jobs=None, penalty='l2',\n",
        "                   random_state=0, solver='liblinear', tol=0.0001, verbose=0,\n",
        "                   warm_start=False)"
      ],
      "metadata": {
        "colab": {
          "base_uri": "https://localhost:8080/"
        },
        "id": "T_AOSWPMLSZk",
        "outputId": "94b6106f-dfcd-4b1d-ce39-1cbbb8981c20"
      },
      "execution_count": 9,
      "outputs": [
        {
          "output_type": "execute_result",
          "data": {
            "text/plain": [
              "LogisticRegression(multi_class='warn', random_state=0, solver='liblinear')"
            ]
          },
          "metadata": {},
          "execution_count": 9
        }
      ]
    },
    {
      "cell_type": "markdown",
      "source": [
        "This is the obtained string representation of the fitted model.\n",
        "\n",
        "You can use the fact that `.fit()` returns the model instance and chain the last two statements. They are equivalent to the following line of code:\n",
        "\n"
      ],
      "metadata": {
        "id": "T9oLwnx2LY89"
      }
    },
    {
      "cell_type": "code",
      "source": [
        "model = LogisticRegression(solver='liblinear', random_state=0).fit(x, y)"
      ],
      "metadata": {
        "id": "u9LIH9rWLdYd"
      },
      "execution_count": 10,
      "outputs": []
    },
    {
      "cell_type": "markdown",
      "source": [
        "At this point, you have the classification model defined.\n",
        "\n",
        "You can quickly get the attributes of your model.\n",
        "\n",
        "For example, the attribute .`classes_ represents` the array of distinct values that $y$ takes:"
      ],
      "metadata": {
        "id": "5zZnL0sqLjWt"
      }
    },
    {
      "cell_type": "code",
      "source": [
        "model.classes_"
      ],
      "metadata": {
        "colab": {
          "base_uri": "https://localhost:8080/"
        },
        "id": "MqtQTijYLomB",
        "outputId": "c391eaeb-0479-4ff8-afe6-53c900032962"
      },
      "execution_count": 11,
      "outputs": [
        {
          "output_type": "execute_result",
          "data": {
            "text/plain": [
              "array([0, 1])"
            ]
          },
          "metadata": {},
          "execution_count": 11
        }
      ]
    },
    {
      "cell_type": "markdown",
      "source": [
        "This is the example of binary classification, and $y$ can be `0` or `1`, as indicated above.\n",
        "\n",
        "You can also get the value of the slope $𝑏_1$ and the intercept $𝑏_0$ of the linear function $𝑓$ like so:\n"
      ],
      "metadata": {
        "id": "dBuh_6DkLxc6"
      }
    },
    {
      "cell_type": "code",
      "source": [
        "model.intercept_\n"
      ],
      "metadata": {
        "colab": {
          "base_uri": "https://localhost:8080/"
        },
        "id": "e1SuJIcsL5qG",
        "outputId": "db4fda93-b5ad-4e1d-88a4-5cb65c2b7a26"
      },
      "execution_count": 12,
      "outputs": [
        {
          "output_type": "execute_result",
          "data": {
            "text/plain": [
              "array([-1.04608067])"
            ]
          },
          "metadata": {},
          "execution_count": 12
        }
      ]
    },
    {
      "cell_type": "code",
      "source": [
        "model.coef_"
      ],
      "metadata": {
        "colab": {
          "base_uri": "https://localhost:8080/"
        },
        "id": "CxhRGTLiL-pc",
        "outputId": "a71f6df3-1b9c-44ec-b8ea-65f9af970d4a"
      },
      "execution_count": 13,
      "outputs": [
        {
          "output_type": "execute_result",
          "data": {
            "text/plain": [
              "array([[0.51491375]])"
            ]
          },
          "metadata": {},
          "execution_count": 13
        }
      ]
    },
    {
      "cell_type": "markdown",
      "source": [
        "As you can see, $𝑏_0$ is given inside a one-dimensional array, while $𝑏_1$ is inside a two-dimensional array. \n",
        "\n",
        "You use the attributes `.intercept_` and `.coef_` to get these results."
      ],
      "metadata": {
        "id": "NE2b_2ChMDTT"
      }
    },
    {
      "cell_type": "code",
      "source": [
        ""
      ],
      "metadata": {
        "id": "CX0y17leMK4n"
      },
      "execution_count": null,
      "outputs": []
    },
    {
      "cell_type": "markdown",
      "source": [
        "## Step 4: Evaluate the Model\n",
        "\n",
        "Once a model is defined, you can check its performance with `.predict_proba()`, which returns the matrix of probabilities that the predicted output is equal to zero or one:"
      ],
      "metadata": {
        "id": "dNXZ8HlZMW_1"
      }
    },
    {
      "cell_type": "code",
      "source": [
        "model.predict_proba(x)"
      ],
      "metadata": {
        "colab": {
          "base_uri": "https://localhost:8080/"
        },
        "id": "jGRK6ADyMcCQ",
        "outputId": "e2ea1770-58a4-4277-a820-8c8e2a20ca39"
      },
      "execution_count": 14,
      "outputs": [
        {
          "output_type": "execute_result",
          "data": {
            "text/plain": [
              "array([[0.74002157, 0.25997843],\n",
              "       [0.62975524, 0.37024476],\n",
              "       [0.5040632 , 0.4959368 ],\n",
              "       [0.37785549, 0.62214451],\n",
              "       [0.26628093, 0.73371907],\n",
              "       [0.17821501, 0.82178499],\n",
              "       [0.11472079, 0.88527921],\n",
              "       [0.07186982, 0.92813018],\n",
              "       [0.04422513, 0.95577487],\n",
              "       [0.02690569, 0.97309431]])"
            ]
          },
          "metadata": {},
          "execution_count": 14
        }
      ]
    },
    {
      "cell_type": "markdown",
      "source": [
        "In the matrix above, each row corresponds to a single observation. The first column is the probability of the predicted output being zero, that is $1 - 𝑝(𝑥)$. The second column is the probability that the output is one, or $𝑝(𝑥)$.\n",
        "\n",
        "You can get the actual predictions, based on the probability matrix and the values of $𝑝(𝑥)$, with `.predict()`:"
      ],
      "metadata": {
        "id": "VUzZ2aFQMhAZ"
      }
    },
    {
      "cell_type": "code",
      "source": [
        "model.predict(x)"
      ],
      "metadata": {
        "colab": {
          "base_uri": "https://localhost:8080/"
        },
        "id": "uYQdUL5dMnpT",
        "outputId": "4b4b7a62-ae9b-4af6-dedd-3f34ec13f43f"
      },
      "execution_count": 15,
      "outputs": [
        {
          "output_type": "execute_result",
          "data": {
            "text/plain": [
              "array([0, 0, 0, 1, 1, 1, 1, 1, 1, 1])"
            ]
          },
          "metadata": {},
          "execution_count": 15
        }
      ]
    },
    {
      "cell_type": "markdown",
      "source": [
        "This function returns the predicted output values as a one-dimensional array.\n",
        "\n",
        "The figure below illustrates the input, output, and classification results:\n",
        "![image.png](data:image/png;base64,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)"
      ],
      "metadata": {
        "id": "TC2Wb2-5MuBa"
      }
    },
    {
      "cell_type": "markdown",
      "source": [
        "The *green circles* represent the actual responses as well as the correct predictions. The red `×` shows the incorrect prediction. The full black line is the estimated logistic regression line $𝑝(𝑥)$. The grey squares are the points on this line that correspond to $x$ and the values in the second column of the probability matrix. The black dashed line is the logit $𝑓(𝑥)$.\n",
        "\n",
        "The value of $𝑥$ slightly above 2 corresponds to the threshold $𝑝(𝑥)=0.5$, which is $𝑓(𝑥)=0$. This value of $𝑥$ is the boundary between the points that are classified as zeros and those predicted as ones.\n",
        "\n",
        "For example, the first point has input $𝑥=0$, actual output $𝑦=0$, probability $𝑝=0.26$, and a predicted value of $0$. The second point has $𝑥=1$, $𝑦=0$, $𝑝=0.37$, and a prediction of $0$. Only the fourth point has the actual output $𝑦=0$ and the probability higher than $0.5$ (at $𝑝=0.62$), so it’s wrongly classified as 1. All other values are predicted correctly.\n",
        "\n",
        "When you have nine out of ten observations classified correctly, the accuracy of your model is equal to $9/10=0.9$, which you can obtain with `.score()`:"
      ],
      "metadata": {
        "id": "pKMwMg5bM_Vq"
      }
    },
    {
      "cell_type": "code",
      "source": [
        "model.score(x, y)"
      ],
      "metadata": {
        "colab": {
          "base_uri": "https://localhost:8080/"
        },
        "id": "hP4DBjkkNcxy",
        "outputId": "05533865-771d-4e57-8553-bc60b01e2f6e"
      },
      "execution_count": 16,
      "outputs": [
        {
          "output_type": "execute_result",
          "data": {
            "text/plain": [
              "0.9"
            ]
          },
          "metadata": {},
          "execution_count": 16
        }
      ]
    },
    {
      "cell_type": "markdown",
      "source": [
        "`.score()` takes the input and output as arguments and returns the ratio of the number of correct predictions to the number of observations.\n",
        "\n",
        "You can get more information on the accuracy of the model with a confusion matrix. In the case of binary classification, the confusion matrix shows the numbers of the following:\n",
        "\n",
        "I. **True negatives** in the upper-left position\n",
        "\n",
        "II. **False negatives** in the lower-left position\n",
        "\n",
        "III. **False positives** in the upper-right position\n",
        "\n",
        "IV. **True positives** in the lower-right position\n",
        "\n",
        "To create the confusion matrix, you can use `confusion_matrix()` and provide the actual and predicted outputs as the arguments:"
      ],
      "metadata": {
        "id": "l0ZgyIA1NmND"
      }
    },
    {
      "cell_type": "code",
      "source": [
        "confusion_matrix(y, model.predict(x))"
      ],
      "metadata": {
        "colab": {
          "base_uri": "https://localhost:8080/"
        },
        "id": "X-aVIZhXN6Go",
        "outputId": "5b7c460b-b32c-4a35-942a-2b5627ca08ee"
      },
      "execution_count": 17,
      "outputs": [
        {
          "output_type": "execute_result",
          "data": {
            "text/plain": [
              "array([[3, 1],\n",
              "       [0, 6]])"
            ]
          },
          "metadata": {},
          "execution_count": 17
        }
      ]
    },
    {
      "cell_type": "markdown",
      "source": [
        "The obtained matrix shows the following:\n",
        "\n",
        "a. Three true negative predictions: The first three observations are zeros predicted correctly.\n",
        "\n",
        "b. No false negative predictions: These are the ones wrongly predicted as zeros.\n",
        "\n",
        "c. One false positive prediction: The fourth observation is a zero that was wrongly predicted as one.\n",
        "\n",
        "d. Six true positive predictions: The last six observations are ones predicted correctly.\n",
        "\n",
        "It’s often useful to visualize the confusion matrix. You can do that with `.imshow()` from `Matplotlib`, which accepts the confusion matrix as the argument:"
      ],
      "metadata": {
        "id": "iHIM-0TaOAch"
      }
    },
    {
      "cell_type": "code",
      "source": [
        "cm = confusion_matrix(y, model.predict(x))\n",
        "\n",
        "fig, ax = plt.subplots(figsize=(8, 8))\n",
        "ax.imshow(cm)\n",
        "ax.grid(False)\n",
        "ax.xaxis.set(ticks=(0, 1), ticklabels=('Predicted 0s', 'Predicted 1s'))\n",
        "ax.yaxis.set(ticks=(0, 1), ticklabels=('Actual 0s', 'Actual 1s'))\n",
        "ax.set_ylim(1.5, -0.5)\n",
        "for i in range(2):\n",
        "    for j in range(2):\n",
        "        ax.text(j, i, cm[i, j], ha='center', va='center', color='red')\n",
        "plt.show()"
      ],
      "metadata": {
        "colab": {
          "base_uri": "https://localhost:8080/",
          "height": 483
        },
        "id": "yIPu73BcOMdq",
        "outputId": "ada277cd-0b0e-4773-f411-cf3d1b42e9e8"
      },
      "execution_count": 18,
      "outputs": [
        {
          "output_type": "display_data",
          "data": {
            "text/plain": [
              "<Figure size 576x576 with 1 Axes>"
            ],
            "image/png": "[encoded data removed]"
          },
          "metadata": {
            "needs_background": "light"
          }
        }
      ]
    },
    {
      "cell_type": "markdown",
      "source": [
        "In this figure, different colors represent different numbers and similar colors represent similar numbers. Heatmaps are a nice and convenient way to represent a matrix. To learn more about them, check out the Matplotlib documentation on Creating Annotated Heatmaps and `.imshow()`.\n",
        "\n",
        "You can get a more comprehensive report on the classification with `classification_report()`:"
      ],
      "metadata": {
        "id": "eZiJxc2eOUYv"
      }
    },
    {
      "cell_type": "code",
      "source": [
        "print(classification_report(y, model.predict(x)))"
      ],
      "metadata": {
        "colab": {
          "base_uri": "https://localhost:8080/"
        },
        "id": "LIqjVeQCOZCt",
        "outputId": "4858bfe2-8fc6-4b0e-ebeb-0d3b11670cd8"
      },
      "execution_count": 19,
      "outputs": [
        {
          "output_type": "stream",
          "name": "stdout",
          "text": [
            "              precision    recall  f1-score   support\n",
            "\n",
            "           0       1.00      0.75      0.86         4\n",
            "           1       0.86      1.00      0.92         6\n",
            "\n",
            "    accuracy                           0.90        10\n",
            "   macro avg       0.93      0.88      0.89        10\n",
            "weighted avg       0.91      0.90      0.90        10\n",
            "\n"
          ]
        }
      ]
    },
    {
      "cell_type": "markdown",
      "source": [
        "This function also takes the actual and predicted outputs as arguments. It returns a report on the classification as a dictionary if you provide `output_dict=True` or a string otherwise."
      ],
      "metadata": {
        "id": "38NNhKe0Od1X"
      }
    },
    {
      "cell_type": "code",
      "source": [
        ""
      ],
      "metadata": {
        "id": "YZy0B5i6OmxX"
      },
      "execution_count": null,
      "outputs": []
    },
    {
      "cell_type": "markdown",
      "source": [
        "## Step 5. Model improvement\n",
        "\n",
        "You can improve your model by setting different parameters. For example, let’s work with the regularization strength `C` equal to $10.0$, instead of the default value of $1.0$:"
      ],
      "metadata": {
        "id": "eZt74zFgOnkM"
      }
    },
    {
      "cell_type": "code",
      "source": [
        "model = LogisticRegression(solver='liblinear', C=10.0, random_state=0)\n",
        "model.fit(x, y)"
      ],
      "metadata": {
        "colab": {
          "base_uri": "https://localhost:8080/"
        },
        "id": "JBerx9qYOzba",
        "outputId": "56d8e9c3-b0f5-407c-cb3b-b3234a4bd17c"
      },
      "execution_count": 20,
      "outputs": [
        {
          "output_type": "execute_result",
          "data": {
            "text/plain": [
              "LogisticRegression(C=10.0, random_state=0, solver='liblinear')"
            ]
          },
          "metadata": {},
          "execution_count": 20
        }
      ]
    },
    {
      "cell_type": "markdown",
      "source": [
        "Now you have another model with different parameters. It’s also going to have a different probability matrix and a different set of coefficients and predictions:"
      ],
      "metadata": {
        "id": "LXj-neelO5oS"
      }
    },
    {
      "cell_type": "code",
      "source": [
        "model.intercept_"
      ],
      "metadata": {
        "colab": {
          "base_uri": "https://localhost:8080/"
        },
        "id": "xaSMv-CUO62N",
        "outputId": "a5ae64a2-8821-4f39-e3cc-ca843e7995a3"
      },
      "execution_count": 21,
      "outputs": [
        {
          "output_type": "execute_result",
          "data": {
            "text/plain": [
              "array([-3.51335372])"
            ]
          },
          "metadata": {},
          "execution_count": 21
        }
      ]
    },
    {
      "cell_type": "code",
      "source": [
        "model.coef_"
      ],
      "metadata": {
        "colab": {
          "base_uri": "https://localhost:8080/"
        },
        "id": "TLB6x0EPO7Qm",
        "outputId": "dca2a530-ad31-4622-b9a2-761dbe51ad24"
      },
      "execution_count": 22,
      "outputs": [
        {
          "output_type": "execute_result",
          "data": {
            "text/plain": [
              "array([[1.12066084]])"
            ]
          },
          "metadata": {},
          "execution_count": 22
        }
      ]
    },
    {
      "cell_type": "code",
      "source": [
        "model.predict_proba(x)"
      ],
      "metadata": {
        "colab": {
          "base_uri": "https://localhost:8080/"
        },
        "id": "lSlgeQi1PBCK",
        "outputId": "3f38f8b4-608f-4207-9a52-fd4f4c00b18d"
      },
      "execution_count": 23,
      "outputs": [
        {
          "output_type": "execute_result",
          "data": {
            "text/plain": [
              "array([[0.97106534, 0.02893466],\n",
              "       [0.9162684 , 0.0837316 ],\n",
              "       [0.7810904 , 0.2189096 ],\n",
              "       [0.53777071, 0.46222929],\n",
              "       [0.27502212, 0.72497788],\n",
              "       [0.11007743, 0.88992257],\n",
              "       [0.03876835, 0.96123165],\n",
              "       [0.01298011, 0.98701989],\n",
              "       [0.0042697 , 0.9957303 ],\n",
              "       [0.00139621, 0.99860379]])"
            ]
          },
          "metadata": {},
          "execution_count": 23
        }
      ]
    },
    {
      "cell_type": "code",
      "source": [
        " model.predict(x)"
      ],
      "metadata": {
        "colab": {
          "base_uri": "https://localhost:8080/"
        },
        "id": "CGc6bgUnPEfT",
        "outputId": "68dc8c7d-7117-4312-c551-893fdf5022ca"
      },
      "execution_count": 24,
      "outputs": [
        {
          "output_type": "execute_result",
          "data": {
            "text/plain": [
              "array([0, 0, 0, 0, 1, 1, 1, 1, 1, 1])"
            ]
          },
          "metadata": {},
          "execution_count": 24
        }
      ]
    },
    {
      "cell_type": "markdown",
      "source": [
        "As we can see, the absolute values of the intercept $𝑏_0$ and the coefficient $𝑏_1$ are larger. This is the case because the larger value of `C` means weaker regularization, or weaker penalization related to high values of $𝑏_0$ and $𝑏_1$.\n",
        "\n",
        "Different values of $𝑏_0$ and $𝑏_1$ imply a change of the logit $𝑓(𝑥)$, different values of the probabilities $𝑝(𝑥)$, a different shape of the regression line, and possibly changes in other predicted outputs and classification performance. \n",
        "\n",
        "The boundary value of $𝑥$ for which $𝑝(𝑥)=0.5$ and $𝑓(𝑥)=0$ is higher now. It’s above $3$. In this case, you obtain all true predictions, as shown by the accuracy, confusion matrix, and classification report:"
      ],
      "metadata": {
        "id": "rNrf9H5_PHqb"
      }
    },
    {
      "cell_type": "code",
      "source": [
        "model.score(x, y)"
      ],
      "metadata": {
        "colab": {
          "base_uri": "https://localhost:8080/"
        },
        "id": "JIiKiwG9PY2p",
        "outputId": "4e19b57d-8e48-43eb-b962-328da794912b"
      },
      "execution_count": 25,
      "outputs": [
        {
          "output_type": "execute_result",
          "data": {
            "text/plain": [
              "1.0"
            ]
          },
          "metadata": {},
          "execution_count": 25
        }
      ]
    },
    {
      "cell_type": "code",
      "source": [
        "confusion_matrix(y, model.predict(x))"
      ],
      "metadata": {
        "colab": {
          "base_uri": "https://localhost:8080/"
        },
        "id": "8unx7djGPcHn",
        "outputId": "1644386b-3bcd-4b80-eae0-6a4fb70d3e1d"
      },
      "execution_count": 26,
      "outputs": [
        {
          "output_type": "execute_result",
          "data": {
            "text/plain": [
              "array([[4, 0],\n",
              "       [0, 6]])"
            ]
          },
          "metadata": {},
          "execution_count": 26
        }
      ]
    },
    {
      "cell_type": "code",
      "source": [
        "print(classification_report(y, model.predict(x)))"
      ],
      "metadata": {
        "colab": {
          "base_uri": "https://localhost:8080/"
        },
        "id": "yLS2EKEUPd7v",
        "outputId": "19d5ca05-30e1-4d0a-b319-70f7f16b4566"
      },
      "execution_count": 27,
      "outputs": [
        {
          "output_type": "stream",
          "name": "stdout",
          "text": [
            "              precision    recall  f1-score   support\n",
            "\n",
            "           0       1.00      1.00      1.00         4\n",
            "           1       1.00      1.00      1.00         6\n",
            "\n",
            "    accuracy                           1.00        10\n",
            "   macro avg       1.00      1.00      1.00        10\n",
            "weighted avg       1.00      1.00      1.00        10\n",
            "\n"
          ]
        }
      ]
    },
    {
      "cell_type": "markdown",
      "source": [
        "The score (or accuracy) of 1 and the zeros in the lower-left and upper-right fields of the confusion matrix indicate that the actual and predicted outputs are the same. That’s also shown with the figure below:\n",
        "\n",
        "![image.png](data:image/png;base64,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)"
      ],
      "metadata": {
        "id": "uTdkepXHPgd6"
      }
    },
    {
      "cell_type": "markdown",
      "source": [
        "This figure illustrates that the estimated regression line now has a different shape and that the fourth point is correctly classified as 0. There isn’t a red $×$, so there is no wrong prediction."
      ],
      "metadata": {
        "id": "QFMi5qp4PnuL"
      }
    }
  ]
}
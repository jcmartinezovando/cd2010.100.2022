{
  "nbformat": 4,
  "nbformat_minor": 0,
  "metadata": {
    "colab": {
      "provenance": [],
      "collapsed_sections": []
    },
    "kernelspec": {
      "name": "python3",
      "display_name": "Python 3"
    },
    "language_info": {
      "name": "python"
    }
  },
  "cells": [
    {
      "cell_type": "code",
      "execution_count": null,
      "metadata": {
        "id": "G6VJJfnQxo42"
      },
      "outputs": [],
      "source": []
    },
    {
      "cell_type": "markdown",
      "source": [
        "This is the first text oin my notebook..."
      ],
      "metadata": {
        "id": "d2lbo1cRy5Mf"
      }
    },
    {
      "cell_type": "code",
      "source": [
        "print(\"Hello Tec World\")"
      ],
      "metadata": {
        "colab": {
          "base_uri": "https://localhost:8080/"
        },
        "id": "CdpDermDzhTi",
        "outputId": "19bcc977-a64f-4c44-a08e-b4c6b02a9c9d"
      },
      "execution_count": null,
      "outputs": [
        {
          "output_type": "stream",
          "name": "stdout",
          "text": [
            "Hello Tec World\n"
          ]
        }
      ]
    },
    {
      "cell_type": "code",
      "source": [
        "# This is a new line in the script"
      ],
      "metadata": {
        "id": "r3EwEuRt15WJ"
      },
      "execution_count": null,
      "outputs": []
    },
    {
      "cell_type": "code",
      "source": [
        "print(\"This is my new line\")"
      ],
      "metadata": {
        "colab": {
          "base_uri": "https://localhost:8080/"
        },
        "id": "KSjF24Z519Iz",
        "outputId": "2e242809-887c-4377-b4bf-f38922c95455"
      },
      "execution_count": null,
      "outputs": [
        {
          "output_type": "stream",
          "name": "stdout",
          "text": [
            "This is my new line\n"
          ]
        }
      ]
    },
    {
      "cell_type": "code",
      "source": [
        "!git clone https://github.com/jcmartinezovando/cd2010.100.2022.git"
      ],
      "metadata": {
        "colab": {
          "base_uri": "https://localhost:8080/"
        },
        "id": "y_XOjTBX5ZCj",
        "outputId": "ed1ac6f1-78d2-413b-b139-0fc7ed9fbb7a"
      },
      "execution_count": null,
      "outputs": [
        {
          "output_type": "stream",
          "name": "stdout",
          "text": [
            "fatal: destination path 'cd2010.100.2022' already exists and is not an empty directory.\n"
          ]
        }
      ]
    },
    {
      "cell_type": "code",
      "source": [
        "!git fetch cd2010.100.2022/cd2010.100.2022.git"
      ],
      "metadata": {
        "colab": {
          "base_uri": "https://localhost:8080/"
        },
        "id": "10PwQyHpQ7YO",
        "outputId": "b998a71d-5f55-4aa1-9b13-949947781f39"
      },
      "execution_count": null,
      "outputs": [
        {
          "output_type": "stream",
          "name": "stdout",
          "text": [
            "fatal: not a git repository (or any of the parent directories): .git\n"
          ]
        }
      ]
    },
    {
      "cell_type": "code",
      "source": [
        "import os\n",
        "os.listdis(cd2010.100.2022)"
      ],
      "metadata": {
        "id": "XI3LtuNM6HIJ"
      },
      "execution_count": null,
      "outputs": []
    }
  ]
}
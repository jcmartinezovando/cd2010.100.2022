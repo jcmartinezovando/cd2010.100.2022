{
  "nbformat": 4,
  "nbformat_minor": 0,
  "metadata": {
    "colab": {
      "name": "CD2010_FirstNotebook.ipynb",
      "provenance": [],
      "collapsed_sections": []
    },
    "kernelspec": {
      "name": "python3",
      "display_name": "Python 3"
    },
    "language_info": {
      "name": "python"
    }
  },
  "cells": [
    {
      "cell_type": "code",
      "execution_count": null,
      "metadata": {
        "id": "G6VJJfnQxo42"
      },
      "outputs": [],
      "source": [
        ""
      ]
    },
    {
      "cell_type": "markdown",
      "source": [
        "This is the first text oin my notebook..."
      ],
      "metadata": {
        "id": "d2lbo1cRy5Mf"
      }
    },
    {
      "cell_type": "code",
      "source": [
        "print(\"Hello Tec World\")"
      ],
      "metadata": {
        "colab": {
          "base_uri": "https://localhost:8080/"
        },
        "id": "CdpDermDzhTi",
        "outputId": "19bcc977-a64f-4c44-a08e-b4c6b02a9c9d"
      },
      "execution_count": 2,
      "outputs": [
        {
          "output_type": "stream",
          "name": "stdout",
          "text": [
            "Hello Tec World\n"
          ]
        }
      ]
    },
    {
      "cell_type": "code",
      "source": [
        "# This is a new line in the script"
      ],
      "metadata": {
        "id": "r3EwEuRt15WJ"
      },
      "execution_count": 3,
      "outputs": []
    },
    {
      "cell_type": "code",
      "source": [
        "print(\"This is my new line\")"
      ],
      "metadata": {
        "colab": {
          "base_uri": "https://localhost:8080/"
        },
        "id": "KSjF24Z519Iz",
        "outputId": "2e242809-887c-4377-b4bf-f38922c95455"
      },
      "execution_count": 5,
      "outputs": [
        {
          "output_type": "stream",
          "name": "stdout",
          "text": [
            "This is my new line\n"
          ]
        }
      ]
    },
    {
      "cell_type": "code",
      "source": [
        "!git clone https://github.com/jcmartinezovando/cd2010.100.2022.git"
      ],
      "metadata": {
        "colab": {
          "base_uri": "https://localhost:8080/"
        },
        "id": "y_XOjTBX5ZCj",
        "outputId": "650d0d18-0aab-4b1a-b620-1471d0366476"
      },
      "execution_count": 7,
      "outputs": [
        {
          "output_type": "stream",
          "name": "stdout",
          "text": [
            "Cloning into 'cd2010.100.2022'...\n",
            "remote: Enumerating objects: 8, done.\u001b[K\n",
            "remote: Counting objects: 100% (8/8), done.\u001b[K\n",
            "remote: Compressing objects: 100% (8/8), done.\u001b[K\n",
            "remote: Total 8 (delta 1), reused 0 (delta 0), pack-reused 0\u001b[K\n",
            "Unpacking objects: 100% (8/8), done.\n"
          ]
        }
      ]
    },
    {
      "cell_type": "code",
      "source": [
        "import os\n",
        "os.listdis(cd2010.100.2022)"
      ],
      "metadata": {
        "id": "XI3LtuNM6HIJ"
      },
      "execution_count": null,
      "outputs": []
    }
  ]
}